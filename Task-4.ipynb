{
 "cells": [
  {
   "cell_type": "markdown",
   "metadata": {},
   "source": [
    "# Task - 4 (Stock Market Prediction using Numerical and Textual Analysis)"
   ]
  },
  {
   "cell_type": "markdown",
   "metadata": {},
   "source": [
    "Create a hybrid model for stock price/performance prediction using\n",
    "numerical analysis of historical stock prices, and sentimental analysis of news headlines \n",
    "\n",
    "● Stock to analyze and predict - SENSEX (S&P BSE SENSEX)\n",
    "● Download historical stock prices from:- https://finance.yahoo.com\n",
    "● Download textual (news) data from:- https://bit.ly/36fFPI6\n",
    "\n"
   ]
  },
  {
   "cell_type": "markdown",
   "metadata": {},
   "source": [
    "# Sentiment Aanalysis of news"
   ]
  },
  {
   "cell_type": "code",
   "execution_count": 1,
   "metadata": {},
   "outputs": [],
   "source": [
    "#import libaries\n",
    "import pandas as pd\n",
    "import numpy as np\n",
    "import matplotlib.pyplot as plt\n",
    "import seaborn as sns\n",
    "from statsmodels.tsa.vector_ar.var_model import VAR\n",
    "from textblob import TextBlob\n",
    "from sklearn.preprocessing import MinMaxScaler\n",
    "from sklearn.metrics import accuracy_score, mean_squared_error\n",
    "import scipy.stats as stats"
   ]
  },
  {
   "cell_type": "code",
   "execution_count": 2,
   "metadata": {},
   "outputs": [
    {
     "data": {
      "text/html": [
       "<div>\n",
       "<style scoped>\n",
       "    .dataframe tbody tr th:only-of-type {\n",
       "        vertical-align: middle;\n",
       "    }\n",
       "\n",
       "    .dataframe tbody tr th {\n",
       "        vertical-align: top;\n",
       "    }\n",
       "\n",
       "    .dataframe thead th {\n",
       "        text-align: right;\n",
       "    }\n",
       "</style>\n",
       "<table border=\"1\" class=\"dataframe\">\n",
       "  <thead>\n",
       "    <tr style=\"text-align: right;\">\n",
       "      <th></th>\n",
       "      <th>Date</th>\n",
       "      <th>headline_category</th>\n",
       "      <th>headline_text</th>\n",
       "    </tr>\n",
       "  </thead>\n",
       "  <tbody>\n",
       "    <tr>\n",
       "      <th>0</th>\n",
       "      <td>20010101</td>\n",
       "      <td>sports.wwe</td>\n",
       "      <td>win over cena satisfying but defeating underta...</td>\n",
       "    </tr>\n",
       "    <tr>\n",
       "      <th>1</th>\n",
       "      <td>20010102</td>\n",
       "      <td>unknown</td>\n",
       "      <td>Status quo will not be disturbed at Ayodhya; s...</td>\n",
       "    </tr>\n",
       "    <tr>\n",
       "      <th>2</th>\n",
       "      <td>20010102</td>\n",
       "      <td>unknown</td>\n",
       "      <td>Fissures in Hurriyat over Pak visit</td>\n",
       "    </tr>\n",
       "    <tr>\n",
       "      <th>3</th>\n",
       "      <td>20010102</td>\n",
       "      <td>unknown</td>\n",
       "      <td>America's unwanted heading for India?</td>\n",
       "    </tr>\n",
       "    <tr>\n",
       "      <th>4</th>\n",
       "      <td>20010102</td>\n",
       "      <td>unknown</td>\n",
       "      <td>For bigwigs; it is destination Goa</td>\n",
       "    </tr>\n",
       "  </tbody>\n",
       "</table>\n",
       "</div>"
      ],
      "text/plain": [
       "       Date headline_category  \\\n",
       "0  20010101        sports.wwe   \n",
       "1  20010102           unknown   \n",
       "2  20010102           unknown   \n",
       "3  20010102           unknown   \n",
       "4  20010102           unknown   \n",
       "\n",
       "                                       headline_text  \n",
       "0  win over cena satisfying but defeating underta...  \n",
       "1  Status quo will not be disturbed at Ayodhya; s...  \n",
       "2                Fissures in Hurriyat over Pak visit  \n",
       "3              America's unwanted heading for India?  \n",
       "4                 For bigwigs; it is destination Goa  "
      ]
     },
     "execution_count": 2,
     "metadata": {},
     "output_type": "execute_result"
    }
   ],
   "source": [
    "# import dataset\n",
    "news_data = pd.read_csv('india-news-headlines.csv')\n",
    "news_data.head()"
   ]
  },
  {
   "cell_type": "code",
   "execution_count": 3,
   "metadata": {},
   "outputs": [
    {
     "name": "stdout",
     "output_type": "stream",
     "text": [
      "<class 'pandas.core.frame.DataFrame'>\n",
      "RangeIndex: 3297172 entries, 0 to 3297171\n",
      "Data columns (total 3 columns):\n",
      " #   Column             Dtype \n",
      "---  ------             ----- \n",
      " 0   Date               int64 \n",
      " 1   headline_category  object\n",
      " 2   headline_text      object\n",
      "dtypes: int64(1), object(2)\n",
      "memory usage: 75.5+ MB\n"
     ]
    }
   ],
   "source": [
    "news_data.info()"
   ]
  },
  {
   "cell_type": "code",
   "execution_count": 4,
   "metadata": {},
   "outputs": [
    {
     "data": {
      "text/html": [
       "<div>\n",
       "<style scoped>\n",
       "    .dataframe tbody tr th:only-of-type {\n",
       "        vertical-align: middle;\n",
       "    }\n",
       "\n",
       "    .dataframe tbody tr th {\n",
       "        vertical-align: top;\n",
       "    }\n",
       "\n",
       "    .dataframe thead th {\n",
       "        text-align: right;\n",
       "    }\n",
       "</style>\n",
       "<table border=\"1\" class=\"dataframe\">\n",
       "  <thead>\n",
       "    <tr style=\"text-align: right;\">\n",
       "      <th></th>\n",
       "      <th>Date</th>\n",
       "      <th>headline_category</th>\n",
       "      <th>headline_text</th>\n",
       "      <th>Dates</th>\n",
       "    </tr>\n",
       "  </thead>\n",
       "  <tbody>\n",
       "    <tr>\n",
       "      <th>0</th>\n",
       "      <td>20010101</td>\n",
       "      <td>sports.wwe</td>\n",
       "      <td>win over cena satisfying but defeating underta...</td>\n",
       "      <td>2001/01/01</td>\n",
       "    </tr>\n",
       "    <tr>\n",
       "      <th>1</th>\n",
       "      <td>20010102</td>\n",
       "      <td>unknown</td>\n",
       "      <td>Status quo will not be disturbed at Ayodhya; s...</td>\n",
       "      <td>2001/01/02</td>\n",
       "    </tr>\n",
       "    <tr>\n",
       "      <th>2</th>\n",
       "      <td>20010102</td>\n",
       "      <td>unknown</td>\n",
       "      <td>Fissures in Hurriyat over Pak visit</td>\n",
       "      <td>2001/01/02</td>\n",
       "    </tr>\n",
       "    <tr>\n",
       "      <th>3</th>\n",
       "      <td>20010102</td>\n",
       "      <td>unknown</td>\n",
       "      <td>America's unwanted heading for India?</td>\n",
       "      <td>2001/01/02</td>\n",
       "    </tr>\n",
       "    <tr>\n",
       "      <th>4</th>\n",
       "      <td>20010102</td>\n",
       "      <td>unknown</td>\n",
       "      <td>For bigwigs; it is destination Goa</td>\n",
       "      <td>2001/01/02</td>\n",
       "    </tr>\n",
       "  </tbody>\n",
       "</table>\n",
       "</div>"
      ],
      "text/plain": [
       "       Date headline_category  \\\n",
       "0  20010101        sports.wwe   \n",
       "1  20010102           unknown   \n",
       "2  20010102           unknown   \n",
       "3  20010102           unknown   \n",
       "4  20010102           unknown   \n",
       "\n",
       "                                       headline_text       Dates  \n",
       "0  win over cena satisfying but defeating underta...  2001/01/01  \n",
       "1  Status quo will not be disturbed at Ayodhya; s...  2001/01/02  \n",
       "2                Fissures in Hurriyat over Pak visit  2001/01/02  \n",
       "3              America's unwanted heading for India?  2001/01/02  \n",
       "4                 For bigwigs; it is destination Goa  2001/01/02  "
      ]
     },
     "execution_count": 4,
     "metadata": {},
     "output_type": "execute_result"
    }
   ],
   "source": [
    "# Dates are convret into integer\n",
    "news_data['Dates'] = np.array([str(str(str(x)[:4]) + '/' + str(str(x)[4:6])+'/'+ str(str(x)[6:])) for x in news_data['Date']])\n",
    "news_data.head()\n"
   ]
  },
  {
   "cell_type": "code",
   "execution_count": 5,
   "metadata": {},
   "outputs": [
    {
     "name": "stdout",
     "output_type": "stream",
     "text": [
      "<class 'pandas.core.frame.DataFrame'>\n",
      "RangeIndex: 3297172 entries, 0 to 3297171\n",
      "Data columns (total 4 columns):\n",
      " #   Column             Dtype \n",
      "---  ------             ----- \n",
      " 0   Date               int64 \n",
      " 1   headline_category  object\n",
      " 2   headline_text      object\n",
      " 3   Dates              object\n",
      "dtypes: int64(1), object(3)\n",
      "memory usage: 100.6+ MB\n"
     ]
    }
   ],
   "source": [
    "news_data.info()"
   ]
  },
  {
   "cell_type": "code",
   "execution_count": 6,
   "metadata": {},
   "outputs": [],
   "source": [
    "# drop the date column\n",
    "news_data = news_data.drop('Date',axis=1)"
   ]
  },
  {
   "cell_type": "code",
   "execution_count": 7,
   "metadata": {},
   "outputs": [
    {
     "data": {
      "text/html": [
       "<div>\n",
       "<style scoped>\n",
       "    .dataframe tbody tr th:only-of-type {\n",
       "        vertical-align: middle;\n",
       "    }\n",
       "\n",
       "    .dataframe tbody tr th {\n",
       "        vertical-align: top;\n",
       "    }\n",
       "\n",
       "    .dataframe thead th {\n",
       "        text-align: right;\n",
       "    }\n",
       "</style>\n",
       "<table border=\"1\" class=\"dataframe\">\n",
       "  <thead>\n",
       "    <tr style=\"text-align: right;\">\n",
       "      <th></th>\n",
       "      <th>headline_category</th>\n",
       "      <th>headline_text</th>\n",
       "      <th>Dates</th>\n",
       "    </tr>\n",
       "  </thead>\n",
       "  <tbody>\n",
       "    <tr>\n",
       "      <th>0</th>\n",
       "      <td>sports.wwe</td>\n",
       "      <td>win over cena satisfying but defeating underta...</td>\n",
       "      <td>2001/01/01</td>\n",
       "    </tr>\n",
       "    <tr>\n",
       "      <th>1</th>\n",
       "      <td>unknown</td>\n",
       "      <td>Status quo will not be disturbed at Ayodhya; s...</td>\n",
       "      <td>2001/01/02</td>\n",
       "    </tr>\n",
       "    <tr>\n",
       "      <th>2</th>\n",
       "      <td>unknown</td>\n",
       "      <td>Fissures in Hurriyat over Pak visit</td>\n",
       "      <td>2001/01/02</td>\n",
       "    </tr>\n",
       "  </tbody>\n",
       "</table>\n",
       "</div>"
      ],
      "text/plain": [
       "  headline_category                                      headline_text  \\\n",
       "0        sports.wwe  win over cena satisfying but defeating underta...   \n",
       "1           unknown  Status quo will not be disturbed at Ayodhya; s...   \n",
       "2           unknown                Fissures in Hurriyat over Pak visit   \n",
       "\n",
       "        Dates  \n",
       "0  2001/01/01  \n",
       "1  2001/01/02  \n",
       "2  2001/01/02  "
      ]
     },
     "execution_count": 7,
     "metadata": {},
     "output_type": "execute_result"
    }
   ],
   "source": [
    "news_data.head(3)"
   ]
  },
  {
   "cell_type": "code",
   "execution_count": 8,
   "metadata": {},
   "outputs": [],
   "source": [
    "#let's visualise data\n",
    "pro_df =news_data.copy()"
   ]
  },
  {
   "cell_type": "code",
   "execution_count": 9,
   "metadata": {},
   "outputs": [],
   "source": [
    "# let's See top-20 headlines-Category\n",
    "pro_df[\"Category\"] = pro_df[\"headline_category\"].str.split(\".\").map(lambda x : x[0])"
   ]
  },
  {
   "cell_type": "code",
   "execution_count": 10,
   "metadata": {},
   "outputs": [],
   "source": [
    "top_categories = pro_df.groupby(['Category']).agg({'headline_text':'count'}).sort_values(by='headline_text', ascending = False)"
   ]
  },
  {
   "cell_type": "code",
   "execution_count": 11,
   "metadata": {},
   "outputs": [],
   "source": [
    "top_20 = top_categories.drop(['unknown']).head(20)"
   ]
  },
  {
   "cell_type": "code",
   "execution_count": 12,
   "metadata": {},
   "outputs": [
    {
     "data": {
      "text/html": [
       "<div>\n",
       "<style scoped>\n",
       "    .dataframe tbody tr th:only-of-type {\n",
       "        vertical-align: middle;\n",
       "    }\n",
       "\n",
       "    .dataframe tbody tr th {\n",
       "        vertical-align: top;\n",
       "    }\n",
       "\n",
       "    .dataframe thead th {\n",
       "        text-align: right;\n",
       "    }\n",
       "</style>\n",
       "<table border=\"1\" class=\"dataframe\">\n",
       "  <thead>\n",
       "    <tr style=\"text-align: right;\">\n",
       "      <th></th>\n",
       "      <th>headline_text</th>\n",
       "    </tr>\n",
       "    <tr>\n",
       "      <th>Category</th>\n",
       "      <th></th>\n",
       "    </tr>\n",
       "  </thead>\n",
       "  <tbody>\n",
       "    <tr>\n",
       "      <th>city</th>\n",
       "      <td>1842498</td>\n",
       "    </tr>\n",
       "    <tr>\n",
       "      <th>india</th>\n",
       "      <td>285619</td>\n",
       "    </tr>\n",
       "    <tr>\n",
       "      <th>entertainment</th>\n",
       "      <td>224877</td>\n",
       "    </tr>\n",
       "    <tr>\n",
       "      <th>business</th>\n",
       "      <td>153876</td>\n",
       "    </tr>\n",
       "    <tr>\n",
       "      <th>sports</th>\n",
       "      <td>129494</td>\n",
       "    </tr>\n",
       "    <tr>\n",
       "      <th>home</th>\n",
       "      <td>77208</td>\n",
       "    </tr>\n",
       "    <tr>\n",
       "      <th>world</th>\n",
       "      <td>63054</td>\n",
       "    </tr>\n",
       "    <tr>\n",
       "      <th>life-style</th>\n",
       "      <td>43370</td>\n",
       "    </tr>\n",
       "    <tr>\n",
       "      <th>tv</th>\n",
       "      <td>37819</td>\n",
       "    </tr>\n",
       "    <tr>\n",
       "      <th>tech</th>\n",
       "      <td>37220</td>\n",
       "    </tr>\n",
       "    <tr>\n",
       "      <th>citizen</th>\n",
       "      <td>29543</td>\n",
       "    </tr>\n",
       "    <tr>\n",
       "      <th>news</th>\n",
       "      <td>13987</td>\n",
       "    </tr>\n",
       "    <tr>\n",
       "      <th>edit-page</th>\n",
       "      <td>13699</td>\n",
       "    </tr>\n",
       "    <tr>\n",
       "      <th>elections</th>\n",
       "      <td>9003</td>\n",
       "    </tr>\n",
       "    <tr>\n",
       "      <th>top-headlines</th>\n",
       "      <td>7603</td>\n",
       "    </tr>\n",
       "    <tr>\n",
       "      <th>delhi-times</th>\n",
       "      <td>7356</td>\n",
       "    </tr>\n",
       "    <tr>\n",
       "      <th>bombay-times</th>\n",
       "      <td>6828</td>\n",
       "    </tr>\n",
       "    <tr>\n",
       "      <th>blogs</th>\n",
       "      <td>6796</td>\n",
       "    </tr>\n",
       "    <tr>\n",
       "      <th>lucknow-times</th>\n",
       "      <td>6704</td>\n",
       "    </tr>\n",
       "    <tr>\n",
       "      <th>top-stories</th>\n",
       "      <td>6637</td>\n",
       "    </tr>\n",
       "  </tbody>\n",
       "</table>\n",
       "</div>"
      ],
      "text/plain": [
       "               headline_text\n",
       "Category                    \n",
       "city                 1842498\n",
       "india                 285619\n",
       "entertainment         224877\n",
       "business              153876\n",
       "sports                129494\n",
       "home                   77208\n",
       "world                  63054\n",
       "life-style             43370\n",
       "tv                     37819\n",
       "tech                   37220\n",
       "citizen                29543\n",
       "news                   13987\n",
       "edit-page              13699\n",
       "elections               9003\n",
       "top-headlines           7603\n",
       "delhi-times             7356\n",
       "bombay-times            6828\n",
       "blogs                   6796\n",
       "lucknow-times           6704\n",
       "top-stories             6637"
      ]
     },
     "execution_count": 12,
     "metadata": {},
     "output_type": "execute_result"
    }
   ],
   "source": [
    "top_20"
   ]
  },
  {
   "cell_type": "code",
   "execution_count": 13,
   "metadata": {},
   "outputs": [],
   "source": [
    "top_20.reset_index(inplace=True)"
   ]
  },
  {
   "cell_type": "code",
   "execution_count": 14,
   "metadata": {},
   "outputs": [
    {
     "data": {
      "image/png": "[encoded data removed]",
      "text/plain": [
       "<Figure size 1440x864 with 1 Axes>"
      ]
     },
     "metadata": {
      "needs_background": "light"
     },
     "output_type": "display_data"
    }
   ],
   "source": [
    "import matplotlib.pyplot as plt\n",
    "plt.figure(figsize = (20,12))\n",
    "plt.bar(top_20.Category, height=top_20.headline_text, color=\"blue\")\n",
    "plt.show()"
   ]
  },
  {
   "cell_type": "code",
   "execution_count": 15,
   "metadata": {},
   "outputs": [
    {
     "data": {
      "text/html": [
       "<div>\n",
       "<style scoped>\n",
       "    .dataframe tbody tr th:only-of-type {\n",
       "        vertical-align: middle;\n",
       "    }\n",
       "\n",
       "    .dataframe tbody tr th {\n",
       "        vertical-align: top;\n",
       "    }\n",
       "\n",
       "    .dataframe thead th {\n",
       "        text-align: right;\n",
       "    }\n",
       "</style>\n",
       "<table border=\"1\" class=\"dataframe\">\n",
       "  <thead>\n",
       "    <tr style=\"text-align: right;\">\n",
       "      <th></th>\n",
       "      <th>headline_text</th>\n",
       "    </tr>\n",
       "    <tr>\n",
       "      <th>Category</th>\n",
       "      <th></th>\n",
       "    </tr>\n",
       "  </thead>\n",
       "  <tbody>\n",
       "    <tr>\n",
       "      <th>india</th>\n",
       "      <td>285619</td>\n",
       "    </tr>\n",
       "    <tr>\n",
       "      <th>entertainment</th>\n",
       "      <td>224877</td>\n",
       "    </tr>\n",
       "    <tr>\n",
       "      <th>business</th>\n",
       "      <td>153876</td>\n",
       "    </tr>\n",
       "    <tr>\n",
       "      <th>sports</th>\n",
       "      <td>129494</td>\n",
       "    </tr>\n",
       "    <tr>\n",
       "      <th>home</th>\n",
       "      <td>77208</td>\n",
       "    </tr>\n",
       "    <tr>\n",
       "      <th>world</th>\n",
       "      <td>63054</td>\n",
       "    </tr>\n",
       "    <tr>\n",
       "      <th>life-style</th>\n",
       "      <td>43370</td>\n",
       "    </tr>\n",
       "    <tr>\n",
       "      <th>tv</th>\n",
       "      <td>37819</td>\n",
       "    </tr>\n",
       "    <tr>\n",
       "      <th>tech</th>\n",
       "      <td>37220</td>\n",
       "    </tr>\n",
       "    <tr>\n",
       "      <th>citizen</th>\n",
       "      <td>29543</td>\n",
       "    </tr>\n",
       "    <tr>\n",
       "      <th>news</th>\n",
       "      <td>13987</td>\n",
       "    </tr>\n",
       "    <tr>\n",
       "      <th>edit-page</th>\n",
       "      <td>13699</td>\n",
       "    </tr>\n",
       "    <tr>\n",
       "      <th>elections</th>\n",
       "      <td>9003</td>\n",
       "    </tr>\n",
       "    <tr>\n",
       "      <th>top-headlines</th>\n",
       "      <td>7603</td>\n",
       "    </tr>\n",
       "    <tr>\n",
       "      <th>delhi-times</th>\n",
       "      <td>7356</td>\n",
       "    </tr>\n",
       "    <tr>\n",
       "      <th>bombay-times</th>\n",
       "      <td>6828</td>\n",
       "    </tr>\n",
       "    <tr>\n",
       "      <th>blogs</th>\n",
       "      <td>6796</td>\n",
       "    </tr>\n",
       "    <tr>\n",
       "      <th>lucknow-times</th>\n",
       "      <td>6704</td>\n",
       "    </tr>\n",
       "    <tr>\n",
       "      <th>top-stories</th>\n",
       "      <td>6637</td>\n",
       "    </tr>\n",
       "    <tr>\n",
       "      <th>calcutta-times</th>\n",
       "      <td>5717</td>\n",
       "    </tr>\n",
       "  </tbody>\n",
       "</table>\n",
       "</div>"
      ],
      "text/plain": [
       "                headline_text\n",
       "Category                     \n",
       "india                  285619\n",
       "entertainment          224877\n",
       "business               153876\n",
       "sports                 129494\n",
       "home                    77208\n",
       "world                   63054\n",
       "life-style              43370\n",
       "tv                      37819\n",
       "tech                    37220\n",
       "citizen                 29543\n",
       "news                    13987\n",
       "edit-page               13699\n",
       "elections                9003\n",
       "top-headlines            7603\n",
       "delhi-times              7356\n",
       "bombay-times             6828\n",
       "blogs                    6796\n",
       "lucknow-times            6704\n",
       "top-stories              6637\n",
       "calcutta-times           5717"
      ]
     },
     "execution_count": 15,
     "metadata": {},
     "output_type": "execute_result"
    }
   ],
   "source": [
    "top_20 = top_categories.drop(['unknown','city']).head(20)\n",
    "top_20"
   ]
  },
  {
   "cell_type": "code",
   "execution_count": 16,
   "metadata": {},
   "outputs": [
    {
     "data": {
      "image/png": "[encoded data removed]",
      "text/plain": [
       "<Figure size 1440x864 with 1 Axes>"
      ]
     },
     "metadata": {
      "needs_background": "light"
     },
     "output_type": "display_data"
    }
   ],
   "source": [
    "top_20.reset_index(inplace=True)\n",
    "import matplotlib.pyplot as plt\n",
    "plt.figure(figsize = (20,12))\n",
    "plt.bar(top_20.Category, height=top_20.headline_text, color=\"blue\")\n",
    "plt.show()"
   ]
  },
  {
   "cell_type": "code",
   "execution_count": 17,
   "metadata": {},
   "outputs": [],
   "source": [
    "# Dates are convert into datetime\n",
    "news_data['Dates'] = pd.to_datetime(news_data['Dates'])"
   ]
  },
  {
   "cell_type": "code",
   "execution_count": 18,
   "metadata": {},
   "outputs": [
    {
     "name": "stdout",
     "output_type": "stream",
     "text": [
      "<class 'pandas.core.frame.DataFrame'>\n",
      "RangeIndex: 3297172 entries, 0 to 3297171\n",
      "Data columns (total 3 columns):\n",
      " #   Column             Dtype         \n",
      "---  ------             -----         \n",
      " 0   headline_category  object        \n",
      " 1   headline_text      object        \n",
      " 2   Dates              datetime64[ns]\n",
      "dtypes: datetime64[ns](1), object(2)\n",
      "memory usage: 75.5+ MB\n"
     ]
    }
   ],
   "source": [
    "news_data.info()"
   ]
  },
  {
   "cell_type": "code",
   "execution_count": 19,
   "metadata": {},
   "outputs": [],
   "source": [
    "news_data = news_data[['Dates','headline_text']]"
   ]
  },
  {
   "cell_type": "code",
   "execution_count": 20,
   "metadata": {},
   "outputs": [],
   "source": [
    "news_data.columns = ['Dates','headline']"
   ]
  },
  {
   "cell_type": "code",
   "execution_count": 21,
   "metadata": {},
   "outputs": [
    {
     "data": {
      "text/html": [
       "<div>\n",
       "<style scoped>\n",
       "    .dataframe tbody tr th:only-of-type {\n",
       "        vertical-align: middle;\n",
       "    }\n",
       "\n",
       "    .dataframe tbody tr th {\n",
       "        vertical-align: top;\n",
       "    }\n",
       "\n",
       "    .dataframe thead th {\n",
       "        text-align: right;\n",
       "    }\n",
       "</style>\n",
       "<table border=\"1\" class=\"dataframe\">\n",
       "  <thead>\n",
       "    <tr style=\"text-align: right;\">\n",
       "      <th></th>\n",
       "      <th>Dates</th>\n",
       "      <th>headline</th>\n",
       "    </tr>\n",
       "  </thead>\n",
       "  <tbody>\n",
       "    <tr>\n",
       "      <th>0</th>\n",
       "      <td>2001-01-01</td>\n",
       "      <td>win over cena satisfying but defeating underta...</td>\n",
       "    </tr>\n",
       "    <tr>\n",
       "      <th>1</th>\n",
       "      <td>2001-01-02</td>\n",
       "      <td>Status quo will not be disturbed at Ayodhya; s...</td>\n",
       "    </tr>\n",
       "    <tr>\n",
       "      <th>2</th>\n",
       "      <td>2001-01-02</td>\n",
       "      <td>Fissures in Hurriyat over Pak visit</td>\n",
       "    </tr>\n",
       "  </tbody>\n",
       "</table>\n",
       "</div>"
      ],
      "text/plain": [
       "       Dates                                           headline\n",
       "0 2001-01-01  win over cena satisfying but defeating underta...\n",
       "1 2001-01-02  Status quo will not be disturbed at Ayodhya; s...\n",
       "2 2001-01-02                Fissures in Hurriyat over Pak visit"
      ]
     },
     "execution_count": 21,
     "metadata": {},
     "output_type": "execute_result"
    }
   ],
   "source": [
    "news_data.head(3)"
   ]
  },
  {
   "cell_type": "code",
   "execution_count": 23,
   "metadata": {},
   "outputs": [],
   "source": [
    "Dict_news = {}\n",
    "\n",
    "temp1 = news_data.loc[0,'Dates']\n",
    "temp2 = news_data.loc[0,'headline']\n",
    "for i in range(1, len(news_data)):\n",
    "    if news_data.loc[i,'Dates']==temp1:\n",
    "        temp2 += '.' + str(news_data.loc[i, 'headline'])\n",
    "    else:\n",
    "        Dict_news[news_data.loc[i-1, 'Dates']]=temp2\n",
    "        temp2=\"\"\n",
    "        temp1 = news_data.loc[i,'Dates']"
   ]
  },
  {
   "cell_type": "code",
   "execution_count": 24,
   "metadata": {},
   "outputs": [
    {
     "data": {
      "text/plain": [
       "7079"
      ]
     },
     "execution_count": 24,
     "metadata": {},
     "output_type": "execute_result"
    }
   ],
   "source": [
    "len(Dict_news)"
   ]
  },
  {
   "cell_type": "code",
   "execution_count": 25,
   "metadata": {},
   "outputs": [],
   "source": [
    "index = np.arange(0, len(Dict_news))"
   ]
  },
  {
   "cell_type": "code",
   "execution_count": 26,
   "metadata": {},
   "outputs": [],
   "source": [
    "news_df = pd.DataFrame(index)"
   ]
  },
  {
   "cell_type": "code",
   "execution_count": 27,
   "metadata": {},
   "outputs": [
    {
     "data": {
      "text/html": [
       "<div>\n",
       "<style scoped>\n",
       "    .dataframe tbody tr th:only-of-type {\n",
       "        vertical-align: middle;\n",
       "    }\n",
       "\n",
       "    .dataframe tbody tr th {\n",
       "        vertical-align: top;\n",
       "    }\n",
       "\n",
       "    .dataframe thead th {\n",
       "        text-align: right;\n",
       "    }\n",
       "</style>\n",
       "<table border=\"1\" class=\"dataframe\">\n",
       "  <thead>\n",
       "    <tr style=\"text-align: right;\">\n",
       "      <th></th>\n",
       "      <th>0</th>\n",
       "    </tr>\n",
       "  </thead>\n",
       "  <tbody>\n",
       "    <tr>\n",
       "      <th>0</th>\n",
       "      <td>0</td>\n",
       "    </tr>\n",
       "    <tr>\n",
       "      <th>1</th>\n",
       "      <td>1</td>\n",
       "    </tr>\n",
       "    <tr>\n",
       "      <th>2</th>\n",
       "      <td>2</td>\n",
       "    </tr>\n",
       "    <tr>\n",
       "      <th>3</th>\n",
       "      <td>3</td>\n",
       "    </tr>\n",
       "    <tr>\n",
       "      <th>4</th>\n",
       "      <td>4</td>\n",
       "    </tr>\n",
       "  </tbody>\n",
       "</table>\n",
       "</div>"
      ],
      "text/plain": [
       "   0\n",
       "0  0\n",
       "1  1\n",
       "2  2\n",
       "3  3\n",
       "4  4"
      ]
     },
     "execution_count": 27,
     "metadata": {},
     "output_type": "execute_result"
    }
   ],
   "source": [
    "news_df.head()"
   ]
  },
  {
   "cell_type": "code",
   "execution_count": 28,
   "metadata": {},
   "outputs": [],
   "source": [
    "news_df['Dates'] = Dict_news.keys()"
   ]
  },
  {
   "cell_type": "code",
   "execution_count": 29,
   "metadata": {},
   "outputs": [
    {
     "data": {
      "text/html": [
       "<div>\n",
       "<style scoped>\n",
       "    .dataframe tbody tr th:only-of-type {\n",
       "        vertical-align: middle;\n",
       "    }\n",
       "\n",
       "    .dataframe tbody tr th {\n",
       "        vertical-align: top;\n",
       "    }\n",
       "\n",
       "    .dataframe thead th {\n",
       "        text-align: right;\n",
       "    }\n",
       "</style>\n",
       "<table border=\"1\" class=\"dataframe\">\n",
       "  <thead>\n",
       "    <tr style=\"text-align: right;\">\n",
       "      <th></th>\n",
       "      <th>0</th>\n",
       "      <th>Dates</th>\n",
       "    </tr>\n",
       "  </thead>\n",
       "  <tbody>\n",
       "    <tr>\n",
       "      <th>0</th>\n",
       "      <td>0</td>\n",
       "      <td>2001-01-01</td>\n",
       "    </tr>\n",
       "    <tr>\n",
       "      <th>1</th>\n",
       "      <td>1</td>\n",
       "      <td>2001-01-02</td>\n",
       "    </tr>\n",
       "    <tr>\n",
       "      <th>2</th>\n",
       "      <td>2</td>\n",
       "      <td>2001-01-03</td>\n",
       "    </tr>\n",
       "    <tr>\n",
       "      <th>3</th>\n",
       "      <td>3</td>\n",
       "      <td>2001-01-04</td>\n",
       "    </tr>\n",
       "    <tr>\n",
       "      <th>4</th>\n",
       "      <td>4</td>\n",
       "      <td>2001-01-05</td>\n",
       "    </tr>\n",
       "  </tbody>\n",
       "</table>\n",
       "</div>"
      ],
      "text/plain": [
       "   0      Dates\n",
       "0  0 2001-01-01\n",
       "1  1 2001-01-02\n",
       "2  2 2001-01-03\n",
       "3  3 2001-01-04\n",
       "4  4 2001-01-05"
      ]
     },
     "execution_count": 29,
     "metadata": {},
     "output_type": "execute_result"
    }
   ],
   "source": [
    "news_df.head()"
   ]
  },
  {
   "cell_type": "code",
   "execution_count": 30,
   "metadata": {},
   "outputs": [],
   "source": [
    "M =[]\n",
    "for i in Dict_news.keys():\n",
    "    M.append(Dict_news[i])"
   ]
  },
  {
   "cell_type": "code",
   "execution_count": 31,
   "metadata": {},
   "outputs": [
    {
     "data": {
      "text/plain": [
       "\".Fissures in Hurriyat over Pak visit.America's unwanted heading for India?.For bigwigs; it is destination Goa.Extra buses to clear tourist traffic.Dilute the power of transfers; says Riberio.Focus shifts to teaching of Hindi.IT will become compulsory in schools.Move to stop freedom fighters' pension flayed.Gilani claims he applied for passport 2 years ago.Parivar dismisses PM's warning.India; Pak exchange lists of N-plants.Will Qureshi's return really help the govt?.PM's tacit message: Put Ram tample on hold.Text of the Prime Minister's article.NCW to focus on violence against women.BBC's reality TV will focus on AIIMS.Jaitley firm on legal reforms.Hoshangabad farmers have enough water.BJP jumps into rail track conversion issue.America's unwanted heading for India?.State may take AP to court over Krishna.This official has sued the briber.Park turns temple compound as residents watch.Moves afoot to evict squatters in Urban dist.Mafia calls the shots in Gandhinagar too.Status quo will not be disturbed at Ayodhya; says Vajpayee.Fissures in Hurriyat over Pak visit.America's unwanted heading for India?.For bigwigs; it is destination Goa.Extra buses to clear tourist traffic.Dilute the power of transfers; says Riberio.Focus shifts to teaching of Hindi.IT will become compulsory in schools.Move to stop freedom fighters' pension flayed.Gilani claims he applied for passport 2 years ago.Parivar dismisses PM's warning.India; Pak exchange lists of N-plants.Will Qureshi's return really help the govt?.PM's tacit message: Put Ram tample on hold.Text of the Prime Minister's article.NCW to focus on violence against women.BBC's reality TV will focus on AIIMS.Jaitley firm on legal reforms.Hoshangabad farmers have enough water.BJP jumps into rail track conversion issue.America's unwanted heading for India?.State may take AP to court over Krishna.This official has sued the briber.Park turns temple compound as residents watch.Moves afoot to evict squatters in Urban dist.Mafia calls the shots in Gandhinagar too.Come to Nandi Hills...and you can fly.HAL approached for super jumbo project.Nagathihalli returns with Preethiya Hudugi.Fashion in the future.Promises to keep.Home is where the holistic science is.A noisy effort to spruce up Commercial Street.The best music of the year.Redemption night; amid some rock.Consul is back from month-long leave.Bomb hoax triggers panic in Canara Bank.Petition over ministers' assets dismissed.He beat polio; but a truck driver's is no life.Destroying myths and doubts on sexuality.Planning Dept seeks Rs 350 crore more.More engg colleges if needed in state: Govt.Auto driver's murder: 4 held.Meet held on cashew crop forecasting.Awareness rally on AIDS today.Record power generation at RTPS.Move to stop freedom fighters' pension flayed.Snags delay digital maps of city.Making education a people's movement.Murder spoils 2001 party in Dharwad.Now a website on a seer.Akki-Alur and Ranebennur peaceful.Weekly editor resorts to hunger strike.Bickering cost Dal(S) seats; admits Gowda.BJP to block traffic statewide on Jan 6.Dr Patwardhan to be felicitated.Lingambudhi will be turned into bird sanctuary.Cactus which made it to Guinness is dying.VIPs suffer as power supply is stopped to govt guest houses.Raju Chacha\""
      ]
     },
     "execution_count": 31,
     "metadata": {},
     "output_type": "execute_result"
    }
   ],
   "source": [
    "M[1]"
   ]
  },
  {
   "cell_type": "code",
   "execution_count": 32,
   "metadata": {},
   "outputs": [],
   "source": [
    "news_df['headline'] = np.array(M)"
   ]
  },
  {
   "cell_type": "code",
   "execution_count": 33,
   "metadata": {},
   "outputs": [
    {
     "data": {
      "text/html": [
       "<div>\n",
       "<style scoped>\n",
       "    .dataframe tbody tr th:only-of-type {\n",
       "        vertical-align: middle;\n",
       "    }\n",
       "\n",
       "    .dataframe tbody tr th {\n",
       "        vertical-align: top;\n",
       "    }\n",
       "\n",
       "    .dataframe thead th {\n",
       "        text-align: right;\n",
       "    }\n",
       "</style>\n",
       "<table border=\"1\" class=\"dataframe\">\n",
       "  <thead>\n",
       "    <tr style=\"text-align: right;\">\n",
       "      <th></th>\n",
       "      <th>0</th>\n",
       "      <th>Dates</th>\n",
       "      <th>headline</th>\n",
       "    </tr>\n",
       "  </thead>\n",
       "  <tbody>\n",
       "    <tr>\n",
       "      <th>0</th>\n",
       "      <td>0</td>\n",
       "      <td>2001-01-01</td>\n",
       "      <td>win over cena satisfying but defeating underta...</td>\n",
       "    </tr>\n",
       "    <tr>\n",
       "      <th>1</th>\n",
       "      <td>1</td>\n",
       "      <td>2001-01-02</td>\n",
       "      <td>.Fissures in Hurriyat over Pak visit.America's...</td>\n",
       "    </tr>\n",
       "  </tbody>\n",
       "</table>\n",
       "</div>"
      ],
      "text/plain": [
       "   0      Dates                                           headline\n",
       "0  0 2001-01-01  win over cena satisfying but defeating underta...\n",
       "1  1 2001-01-02  .Fissures in Hurriyat over Pak visit.America's..."
      ]
     },
     "execution_count": 33,
     "metadata": {},
     "output_type": "execute_result"
    }
   ],
   "source": [
    "news_df.head(2)"
   ]
  },
  {
   "cell_type": "code",
   "execution_count": 34,
   "metadata": {},
   "outputs": [],
   "source": [
    "news_df = news_df.drop(0, axis=1)"
   ]
  },
  {
   "cell_type": "code",
   "execution_count": 35,
   "metadata": {},
   "outputs": [
    {
     "data": {
      "text/html": [
       "<div>\n",
       "<style scoped>\n",
       "    .dataframe tbody tr th:only-of-type {\n",
       "        vertical-align: middle;\n",
       "    }\n",
       "\n",
       "    .dataframe tbody tr th {\n",
       "        vertical-align: top;\n",
       "    }\n",
       "\n",
       "    .dataframe thead th {\n",
       "        text-align: right;\n",
       "    }\n",
       "</style>\n",
       "<table border=\"1\" class=\"dataframe\">\n",
       "  <thead>\n",
       "    <tr style=\"text-align: right;\">\n",
       "      <th></th>\n",
       "      <th>Dates</th>\n",
       "      <th>headline</th>\n",
       "    </tr>\n",
       "  </thead>\n",
       "  <tbody>\n",
       "    <tr>\n",
       "      <th>7074</th>\n",
       "      <td>2020-06-25</td>\n",
       "      <td>.Telangana: Senior Congress leader tests+ve fo...</td>\n",
       "    </tr>\n",
       "    <tr>\n",
       "      <th>7075</th>\n",
       "      <td>2020-06-26</td>\n",
       "      <td>.up hammers out 60k proposals of rs 870cr ahea...</td>\n",
       "    </tr>\n",
       "    <tr>\n",
       "      <th>7076</th>\n",
       "      <td>2020-06-27</td>\n",
       "      <td>.Major Ravi to helm movie on Indo-Chinese conf...</td>\n",
       "    </tr>\n",
       "    <tr>\n",
       "      <th>7077</th>\n",
       "      <td>2020-06-28</td>\n",
       "      <td>.Sports without spectators: 'Who will cheer fo...</td>\n",
       "    </tr>\n",
       "    <tr>\n",
       "      <th>7078</th>\n",
       "      <td>2020-06-29</td>\n",
       "      <td>.Anna Eden gets creative with husband and MP H...</td>\n",
       "    </tr>\n",
       "  </tbody>\n",
       "</table>\n",
       "</div>"
      ],
      "text/plain": [
       "          Dates                                           headline\n",
       "7074 2020-06-25  .Telangana: Senior Congress leader tests+ve fo...\n",
       "7075 2020-06-26  .up hammers out 60k proposals of rs 870cr ahea...\n",
       "7076 2020-06-27  .Major Ravi to helm movie on Indo-Chinese conf...\n",
       "7077 2020-06-28  .Sports without spectators: 'Who will cheer fo...\n",
       "7078 2020-06-29  .Anna Eden gets creative with husband and MP H..."
      ]
     },
     "execution_count": 35,
     "metadata": {},
     "output_type": "execute_result"
    }
   ],
   "source": [
    "news_df.tail()"
   ]
  },
  {
   "cell_type": "code",
   "execution_count": 36,
   "metadata": {},
   "outputs": [],
   "source": [
    "# Sentiment anlysis on news data\n",
    "polarity = []\n",
    "subjectivity = []\n",
    "tuples = []\n",
    "for i in news_df['headline'].values:\n",
    "    my_values = TextBlob(i)\n",
    "    tuples.append(my_values.sentiment)"
   ]
  },
  {
   "cell_type": "code",
   "execution_count": 37,
   "metadata": {},
   "outputs": [],
   "source": [
    "for i in tuples:\n",
    "    polarity.append(i[0])\n",
    "    subjectivity.append(i[1])"
   ]
  },
  {
   "cell_type": "code",
   "execution_count": 38,
   "metadata": {},
   "outputs": [],
   "source": [
    "news_df['polarity'] = np.array(polarity)\n",
    "news_df['Subjectivity'] = np.array(subjectivity)"
   ]
  },
  {
   "cell_type": "code",
   "execution_count": 39,
   "metadata": {},
   "outputs": [
    {
     "data": {
      "text/html": [
       "<div>\n",
       "<style scoped>\n",
       "    .dataframe tbody tr th:only-of-type {\n",
       "        vertical-align: middle;\n",
       "    }\n",
       "\n",
       "    .dataframe tbody tr th {\n",
       "        vertical-align: top;\n",
       "    }\n",
       "\n",
       "    .dataframe thead th {\n",
       "        text-align: right;\n",
       "    }\n",
       "</style>\n",
       "<table border=\"1\" class=\"dataframe\">\n",
       "  <thead>\n",
       "    <tr style=\"text-align: right;\">\n",
       "      <th></th>\n",
       "      <th>Dates</th>\n",
       "      <th>headline</th>\n",
       "      <th>polarity</th>\n",
       "      <th>Subjectivity</th>\n",
       "    </tr>\n",
       "  </thead>\n",
       "  <tbody>\n",
       "    <tr>\n",
       "      <th>0</th>\n",
       "      <td>2001-01-01</td>\n",
       "      <td>win over cena satisfying but defeating underta...</td>\n",
       "      <td>0.433333</td>\n",
       "      <td>0.633333</td>\n",
       "    </tr>\n",
       "    <tr>\n",
       "      <th>1</th>\n",
       "      <td>2001-01-02</td>\n",
       "      <td>.Fissures in Hurriyat over Pak visit.America's...</td>\n",
       "      <td>0.113725</td>\n",
       "      <td>0.254902</td>\n",
       "    </tr>\n",
       "    <tr>\n",
       "      <th>2</th>\n",
       "      <td>2001-01-03</td>\n",
       "      <td>.Think again; Laxman tells Sangh Parivar.Hurri...</td>\n",
       "      <td>0.184375</td>\n",
       "      <td>0.403125</td>\n",
       "    </tr>\n",
       "    <tr>\n",
       "      <th>3</th>\n",
       "      <td>2001-01-04</td>\n",
       "      <td>.Vajpayee gives big push to tech education; R&amp;...</td>\n",
       "      <td>0.132492</td>\n",
       "      <td>0.473506</td>\n",
       "    </tr>\n",
       "    <tr>\n",
       "      <th>4</th>\n",
       "      <td>2001-01-05</td>\n",
       "      <td>.Hawkings' day out.Light combat craft takes In...</td>\n",
       "      <td>0.250480</td>\n",
       "      <td>0.455474</td>\n",
       "    </tr>\n",
       "  </tbody>\n",
       "</table>\n",
       "</div>"
      ],
      "text/plain": [
       "       Dates                                           headline  polarity  \\\n",
       "0 2001-01-01  win over cena satisfying but defeating underta...  0.433333   \n",
       "1 2001-01-02  .Fissures in Hurriyat over Pak visit.America's...  0.113725   \n",
       "2 2001-01-03  .Think again; Laxman tells Sangh Parivar.Hurri...  0.184375   \n",
       "3 2001-01-04  .Vajpayee gives big push to tech education; R&...  0.132492   \n",
       "4 2001-01-05  .Hawkings' day out.Light combat craft takes In...  0.250480   \n",
       "\n",
       "   Subjectivity  \n",
       "0      0.633333  \n",
       "1      0.254902  \n",
       "2      0.403125  \n",
       "3      0.473506  \n",
       "4      0.455474  "
      ]
     },
     "execution_count": 39,
     "metadata": {},
     "output_type": "execute_result"
    }
   ],
   "source": [
    "news_df.head()"
   ]
  },
  {
   "cell_type": "code",
   "execution_count": 40,
   "metadata": {},
   "outputs": [],
   "source": [
    "temp1 =['positive','neutral','negative']\n",
    "temp2 = ['subjective','objective']\n",
    "polarity =[]\n",
    "subjectivity = []\n",
    "for i in range(len(news_df)):\n",
    "    Ply = news_df.iloc[i]['polarity']\n",
    "    Sbj = news_df.iloc[i]['Subjectivity']\n",
    "    if Ply>=0:\n",
    "        if Ply>=0.2:\n",
    "            polarity.append(temp1[0])\n",
    "        else:\n",
    "            polarity.append(temp1[1])\n",
    "    else:\n",
    "        if Ply<=-0.2:\n",
    "            polarity.append(temp1[2])\n",
    "        else:\n",
    "            polarity.append(temp1[1])\n",
    "            \n",
    "    if Sbj>=0.4:\n",
    "        subjectivity.append(temp2[1])\n",
    "    else:\n",
    "        subjectivity.append(temp2[0])"
   ]
  },
  {
   "cell_type": "code",
   "execution_count": 41,
   "metadata": {},
   "outputs": [],
   "source": [
    "news_df['sentiment'] = polarity\n",
    "news_df['opinion'] = subjectivity"
   ]
  },
  {
   "cell_type": "code",
   "execution_count": 42,
   "metadata": {},
   "outputs": [
    {
     "data": {
      "text/html": [
       "<div>\n",
       "<style scoped>\n",
       "    .dataframe tbody tr th:only-of-type {\n",
       "        vertical-align: middle;\n",
       "    }\n",
       "\n",
       "    .dataframe tbody tr th {\n",
       "        vertical-align: top;\n",
       "    }\n",
       "\n",
       "    .dataframe thead th {\n",
       "        text-align: right;\n",
       "    }\n",
       "</style>\n",
       "<table border=\"1\" class=\"dataframe\">\n",
       "  <thead>\n",
       "    <tr style=\"text-align: right;\">\n",
       "      <th></th>\n",
       "      <th>Dates</th>\n",
       "      <th>headline</th>\n",
       "      <th>polarity</th>\n",
       "      <th>Subjectivity</th>\n",
       "      <th>sentiment</th>\n",
       "      <th>opinion</th>\n",
       "    </tr>\n",
       "  </thead>\n",
       "  <tbody>\n",
       "    <tr>\n",
       "      <th>0</th>\n",
       "      <td>2001-01-01</td>\n",
       "      <td>win over cena satisfying but defeating underta...</td>\n",
       "      <td>0.433333</td>\n",
       "      <td>0.633333</td>\n",
       "      <td>positive</td>\n",
       "      <td>objective</td>\n",
       "    </tr>\n",
       "    <tr>\n",
       "      <th>1</th>\n",
       "      <td>2001-01-02</td>\n",
       "      <td>.Fissures in Hurriyat over Pak visit.America's...</td>\n",
       "      <td>0.113725</td>\n",
       "      <td>0.254902</td>\n",
       "      <td>neutral</td>\n",
       "      <td>subjective</td>\n",
       "    </tr>\n",
       "    <tr>\n",
       "      <th>2</th>\n",
       "      <td>2001-01-03</td>\n",
       "      <td>.Think again; Laxman tells Sangh Parivar.Hurri...</td>\n",
       "      <td>0.184375</td>\n",
       "      <td>0.403125</td>\n",
       "      <td>neutral</td>\n",
       "      <td>objective</td>\n",
       "    </tr>\n",
       "    <tr>\n",
       "      <th>3</th>\n",
       "      <td>2001-01-04</td>\n",
       "      <td>.Vajpayee gives big push to tech education; R&amp;...</td>\n",
       "      <td>0.132492</td>\n",
       "      <td>0.473506</td>\n",
       "      <td>neutral</td>\n",
       "      <td>objective</td>\n",
       "    </tr>\n",
       "    <tr>\n",
       "      <th>4</th>\n",
       "      <td>2001-01-05</td>\n",
       "      <td>.Hawkings' day out.Light combat craft takes In...</td>\n",
       "      <td>0.250480</td>\n",
       "      <td>0.455474</td>\n",
       "      <td>positive</td>\n",
       "      <td>objective</td>\n",
       "    </tr>\n",
       "  </tbody>\n",
       "</table>\n",
       "</div>"
      ],
      "text/plain": [
       "       Dates                                           headline  polarity  \\\n",
       "0 2001-01-01  win over cena satisfying but defeating underta...  0.433333   \n",
       "1 2001-01-02  .Fissures in Hurriyat over Pak visit.America's...  0.113725   \n",
       "2 2001-01-03  .Think again; Laxman tells Sangh Parivar.Hurri...  0.184375   \n",
       "3 2001-01-04  .Vajpayee gives big push to tech education; R&...  0.132492   \n",
       "4 2001-01-05  .Hawkings' day out.Light combat craft takes In...  0.250480   \n",
       "\n",
       "   Subjectivity sentiment     opinion  \n",
       "0      0.633333  positive   objective  \n",
       "1      0.254902   neutral  subjective  \n",
       "2      0.403125   neutral   objective  \n",
       "3      0.473506   neutral   objective  \n",
       "4      0.455474  positive   objective  "
      ]
     },
     "execution_count": 42,
     "metadata": {},
     "output_type": "execute_result"
    }
   ],
   "source": [
    "news_df.head()"
   ]
  },
  {
   "cell_type": "code",
   "execution_count": 43,
   "metadata": {},
   "outputs": [],
   "source": [
    "final_result = news_df.groupby(['sentiment']).agg({'headline':'count'})"
   ]
  },
  {
   "cell_type": "code",
   "execution_count": 44,
   "metadata": {},
   "outputs": [
    {
     "data": {
      "text/html": [
       "<div>\n",
       "<style scoped>\n",
       "    .dataframe tbody tr th:only-of-type {\n",
       "        vertical-align: middle;\n",
       "    }\n",
       "\n",
       "    .dataframe tbody tr th {\n",
       "        vertical-align: top;\n",
       "    }\n",
       "\n",
       "    .dataframe thead th {\n",
       "        text-align: right;\n",
       "    }\n",
       "</style>\n",
       "<table border=\"1\" class=\"dataframe\">\n",
       "  <thead>\n",
       "    <tr style=\"text-align: right;\">\n",
       "      <th></th>\n",
       "      <th>headline</th>\n",
       "    </tr>\n",
       "    <tr>\n",
       "      <th>sentiment</th>\n",
       "      <th></th>\n",
       "    </tr>\n",
       "  </thead>\n",
       "  <tbody>\n",
       "    <tr>\n",
       "      <th>negative</th>\n",
       "      <td>5</td>\n",
       "    </tr>\n",
       "    <tr>\n",
       "      <th>neutral</th>\n",
       "      <td>7019</td>\n",
       "    </tr>\n",
       "    <tr>\n",
       "      <th>positive</th>\n",
       "      <td>55</td>\n",
       "    </tr>\n",
       "  </tbody>\n",
       "</table>\n",
       "</div>"
      ],
      "text/plain": [
       "           headline\n",
       "sentiment          \n",
       "negative          5\n",
       "neutral        7019\n",
       "positive         55"
      ]
     },
     "execution_count": 44,
     "metadata": {},
     "output_type": "execute_result"
    }
   ],
   "source": [
    "final_result"
   ]
  },
  {
   "cell_type": "code",
   "execution_count": 45,
   "metadata": {},
   "outputs": [
    {
     "data": {
      "image/png": "[encoded data removed]",
      "text/plain": [
       "<Figure size 432x288 with 1 Axes>"
      ]
     },
     "metadata": {
      "needs_background": "light"
     },
     "output_type": "display_data"
    }
   ],
   "source": [
    "plt.figure(figsize=(6,4))\n",
    "news_df['polarity'].hist()\n",
    "plt.show()"
   ]
  },
  {
   "cell_type": "code",
   "execution_count": 46,
   "metadata": {},
   "outputs": [
    {
     "data": {
      "text/plain": [
       "<matplotlib.axes._subplots.AxesSubplot at 0x2ba1e5aac88>"
      ]
     },
     "execution_count": 46,
     "metadata": {},
     "output_type": "execute_result"
    },
    {
     "data": {
      "image/png": "[encoded data removed]",
      "text/plain": [
       "<Figure size 432x288 with 1 Axes>"
      ]
     },
     "metadata": {
      "needs_background": "light"
     },
     "output_type": "display_data"
    }
   ],
   "source": [
    "sns.countplot(news_df['opinion'])"
   ]
  },
  {
   "cell_type": "code",
   "execution_count": 47,
   "metadata": {},
   "outputs": [
    {
     "data": {
      "text/plain": [
       "<matplotlib.axes._subplots.AxesSubplot at 0x2ba1e2f4550>"
      ]
     },
     "execution_count": 47,
     "metadata": {},
     "output_type": "execute_result"
    },
    {
     "data": {
      "image/png": "[encoded data removed]",
      "text/plain": [
       "<Figure size 432x288 with 1 Axes>"
      ]
     },
     "metadata": {
      "needs_background": "light"
     },
     "output_type": "display_data"
    }
   ],
   "source": [
    "sns.countplot(news_df['sentiment'])"
   ]
  },
  {
   "cell_type": "markdown",
   "metadata": {},
   "source": [
    "# Stock Price data"
   ]
  },
  {
   "cell_type": "code",
   "execution_count": 48,
   "metadata": {},
   "outputs": [
    {
     "data": {
      "text/html": [
       "<div>\n",
       "<style scoped>\n",
       "    .dataframe tbody tr th:only-of-type {\n",
       "        vertical-align: middle;\n",
       "    }\n",
       "\n",
       "    .dataframe tbody tr th {\n",
       "        vertical-align: top;\n",
       "    }\n",
       "\n",
       "    .dataframe thead th {\n",
       "        text-align: right;\n",
       "    }\n",
       "</style>\n",
       "<table border=\"1\" class=\"dataframe\">\n",
       "  <thead>\n",
       "    <tr style=\"text-align: right;\">\n",
       "      <th></th>\n",
       "      <th>Date</th>\n",
       "      <th>Open</th>\n",
       "      <th>High</th>\n",
       "      <th>Low</th>\n",
       "      <th>Close</th>\n",
       "      <th>Adj Close</th>\n",
       "      <th>Volume</th>\n",
       "    </tr>\n",
       "  </thead>\n",
       "  <tbody>\n",
       "    <tr>\n",
       "      <th>0</th>\n",
       "      <td>2000-01-03</td>\n",
       "      <td>5209.540039</td>\n",
       "      <td>5384.660156</td>\n",
       "      <td>5209.540039</td>\n",
       "      <td>5375.109863</td>\n",
       "      <td>5375.109863</td>\n",
       "      <td>0.0</td>\n",
       "    </tr>\n",
       "    <tr>\n",
       "      <th>1</th>\n",
       "      <td>2000-01-04</td>\n",
       "      <td>5533.979980</td>\n",
       "      <td>5533.979980</td>\n",
       "      <td>5376.430176</td>\n",
       "      <td>5491.009766</td>\n",
       "      <td>5491.009766</td>\n",
       "      <td>0.0</td>\n",
       "    </tr>\n",
       "    <tr>\n",
       "      <th>2</th>\n",
       "      <td>2000-01-05</td>\n",
       "      <td>5265.089844</td>\n",
       "      <td>5464.350098</td>\n",
       "      <td>5184.479980</td>\n",
       "      <td>5357.000000</td>\n",
       "      <td>5357.000000</td>\n",
       "      <td>0.0</td>\n",
       "    </tr>\n",
       "    <tr>\n",
       "      <th>3</th>\n",
       "      <td>2000-01-06</td>\n",
       "      <td>5424.209961</td>\n",
       "      <td>5489.859863</td>\n",
       "      <td>5391.330078</td>\n",
       "      <td>5421.529785</td>\n",
       "      <td>5421.529785</td>\n",
       "      <td>0.0</td>\n",
       "    </tr>\n",
       "    <tr>\n",
       "      <th>4</th>\n",
       "      <td>2000-01-07</td>\n",
       "      <td>5358.279785</td>\n",
       "      <td>5463.250000</td>\n",
       "      <td>5330.580078</td>\n",
       "      <td>5414.479980</td>\n",
       "      <td>5414.479980</td>\n",
       "      <td>0.0</td>\n",
       "    </tr>\n",
       "  </tbody>\n",
       "</table>\n",
       "</div>"
      ],
      "text/plain": [
       "         Date         Open         High          Low        Close  \\\n",
       "0  2000-01-03  5209.540039  5384.660156  5209.540039  5375.109863   \n",
       "1  2000-01-04  5533.979980  5533.979980  5376.430176  5491.009766   \n",
       "2  2000-01-05  5265.089844  5464.350098  5184.479980  5357.000000   \n",
       "3  2000-01-06  5424.209961  5489.859863  5391.330078  5421.529785   \n",
       "4  2000-01-07  5358.279785  5463.250000  5330.580078  5414.479980   \n",
       "\n",
       "     Adj Close  Volume  \n",
       "0  5375.109863     0.0  \n",
       "1  5491.009766     0.0  \n",
       "2  5357.000000     0.0  \n",
       "3  5421.529785     0.0  \n",
       "4  5414.479980     0.0  "
      ]
     },
     "execution_count": 48,
     "metadata": {},
     "output_type": "execute_result"
    }
   ],
   "source": [
    "#import dataset\n",
    "stock = pd.read_csv('Historical stock price.csv')\n",
    "stock.head()"
   ]
  },
  {
   "cell_type": "code",
   "execution_count": 49,
   "metadata": {},
   "outputs": [
    {
     "data": {
      "text/plain": [
       "(5202, 7)"
      ]
     },
     "execution_count": 49,
     "metadata": {},
     "output_type": "execute_result"
    }
   ],
   "source": [
    "stock.shape"
   ]
  },
  {
   "cell_type": "code",
   "execution_count": 50,
   "metadata": {},
   "outputs": [
    {
     "data": {
      "text/html": [
       "<div>\n",
       "<style scoped>\n",
       "    .dataframe tbody tr th:only-of-type {\n",
       "        vertical-align: middle;\n",
       "    }\n",
       "\n",
       "    .dataframe tbody tr th {\n",
       "        vertical-align: top;\n",
       "    }\n",
       "\n",
       "    .dataframe thead th {\n",
       "        text-align: right;\n",
       "    }\n",
       "</style>\n",
       "<table border=\"1\" class=\"dataframe\">\n",
       "  <thead>\n",
       "    <tr style=\"text-align: right;\">\n",
       "      <th></th>\n",
       "      <th>Open</th>\n",
       "      <th>High</th>\n",
       "      <th>Low</th>\n",
       "      <th>Close</th>\n",
       "      <th>Adj Close</th>\n",
       "      <th>Volume</th>\n",
       "    </tr>\n",
       "  </thead>\n",
       "  <tbody>\n",
       "    <tr>\n",
       "      <th>count</th>\n",
       "      <td>5117.000000</td>\n",
       "      <td>5117.000000</td>\n",
       "      <td>5117.000000</td>\n",
       "      <td>5117.000000</td>\n",
       "      <td>5117.000000</td>\n",
       "      <td>5.117000e+03</td>\n",
       "    </tr>\n",
       "    <tr>\n",
       "      <th>mean</th>\n",
       "      <td>17661.514962</td>\n",
       "      <td>17769.604422</td>\n",
       "      <td>17518.692907</td>\n",
       "      <td>17640.938622</td>\n",
       "      <td>17640.938622</td>\n",
       "      <td>7.697661e+04</td>\n",
       "    </tr>\n",
       "    <tr>\n",
       "      <th>std</th>\n",
       "      <td>11140.076817</td>\n",
       "      <td>11179.199340</td>\n",
       "      <td>11073.020101</td>\n",
       "      <td>11122.546076</td>\n",
       "      <td>11122.546076</td>\n",
       "      <td>1.046424e+06</td>\n",
       "    </tr>\n",
       "    <tr>\n",
       "      <th>min</th>\n",
       "      <td>2621.889893</td>\n",
       "      <td>2682.590088</td>\n",
       "      <td>2594.870117</td>\n",
       "      <td>2600.120117</td>\n",
       "      <td>2600.120117</td>\n",
       "      <td>0.000000e+00</td>\n",
       "    </tr>\n",
       "    <tr>\n",
       "      <th>25%</th>\n",
       "      <td>6447.720215</td>\n",
       "      <td>6482.390137</td>\n",
       "      <td>6404.350098</td>\n",
       "      <td>6451.540039</td>\n",
       "      <td>6451.540039</td>\n",
       "      <td>8.400000e+03</td>\n",
       "    </tr>\n",
       "    <tr>\n",
       "      <th>50%</th>\n",
       "      <td>17149.080078</td>\n",
       "      <td>17244.539063</td>\n",
       "      <td>17022.250000</td>\n",
       "      <td>17131.080078</td>\n",
       "      <td>17131.080078</td>\n",
       "      <td>1.320000e+04</td>\n",
       "    </tr>\n",
       "    <tr>\n",
       "      <th>75%</th>\n",
       "      <td>26607.650391</td>\n",
       "      <td>26730.400391</td>\n",
       "      <td>26407.580078</td>\n",
       "      <td>26595.449219</td>\n",
       "      <td>26595.449219</td>\n",
       "      <td>2.020000e+04</td>\n",
       "    </tr>\n",
       "    <tr>\n",
       "      <th>max</th>\n",
       "      <td>42263.000000</td>\n",
       "      <td>42273.871094</td>\n",
       "      <td>41850.289063</td>\n",
       "      <td>41952.628906</td>\n",
       "      <td>41952.628906</td>\n",
       "      <td>3.181510e+07</td>\n",
       "    </tr>\n",
       "  </tbody>\n",
       "</table>\n",
       "</div>"
      ],
      "text/plain": [
       "               Open          High           Low         Close     Adj Close  \\\n",
       "count   5117.000000   5117.000000   5117.000000   5117.000000   5117.000000   \n",
       "mean   17661.514962  17769.604422  17518.692907  17640.938622  17640.938622   \n",
       "std    11140.076817  11179.199340  11073.020101  11122.546076  11122.546076   \n",
       "min     2621.889893   2682.590088   2594.870117   2600.120117   2600.120117   \n",
       "25%     6447.720215   6482.390137   6404.350098   6451.540039   6451.540039   \n",
       "50%    17149.080078  17244.539063  17022.250000  17131.080078  17131.080078   \n",
       "75%    26607.650391  26730.400391  26407.580078  26595.449219  26595.449219   \n",
       "max    42263.000000  42273.871094  41850.289063  41952.628906  41952.628906   \n",
       "\n",
       "             Volume  \n",
       "count  5.117000e+03  \n",
       "mean   7.697661e+04  \n",
       "std    1.046424e+06  \n",
       "min    0.000000e+00  \n",
       "25%    8.400000e+03  \n",
       "50%    1.320000e+04  \n",
       "75%    2.020000e+04  \n",
       "max    3.181510e+07  "
      ]
     },
     "execution_count": 50,
     "metadata": {},
     "output_type": "execute_result"
    }
   ],
   "source": [
    "stock.describe()"
   ]
  },
  {
   "cell_type": "code",
   "execution_count": 51,
   "metadata": {},
   "outputs": [
    {
     "data": {
      "image/png": "[encoded data removed]",
      "text/plain": [
       "<Figure size 1080x720 with 1 Axes>"
      ]
     },
     "metadata": {
      "needs_background": "light"
     },
     "output_type": "display_data"
    }
   ],
   "source": [
    "plt.figure(figsize=(15,10))\n",
    "plt.grid(True)\n",
    "plt.plot(stock['Close'])\n",
    "plt.xlabel('Days')\n",
    "plt.ylabel('Close-price')\n",
    "plt.show()\n",
    "         "
   ]
  },
  {
   "cell_type": "code",
   "execution_count": 52,
   "metadata": {},
   "outputs": [
    {
     "data": {
      "image/png": "[encoded data removed]",
      "text/plain": [
       "<Figure size 1080x720 with 1 Axes>"
      ]
     },
     "metadata": {
      "needs_background": "light"
     },
     "output_type": "display_data"
    }
   ],
   "source": [
    "plt.figure(figsize=(15,10))\n",
    "plt.grid(True)\n",
    "plt.plot(stock['Open'])\n",
    "plt.xlabel('Days')\n",
    "plt.ylabel('Open-price')\n",
    "plt.show()\n",
    "         "
   ]
  },
  {
   "cell_type": "code",
   "execution_count": 53,
   "metadata": {},
   "outputs": [
    {
     "data": {
      "image/png": "[encoded data removed]",
      "text/plain": [
       "<Figure size 432x288 with 1 Axes>"
      ]
     },
     "metadata": {
      "needs_background": "light"
     },
     "output_type": "display_data"
    }
   ],
   "source": [
    "cumsum_data = stock.cumsum()\n",
    "cumsum_data.plot()\n",
    "plt.title('cumulative Returns')\n",
    "plt.show()"
   ]
  },
  {
   "cell_type": "code",
   "execution_count": 54,
   "metadata": {},
   "outputs": [
    {
     "data": {
      "image/png": "[encoded data removed]",
      "text/plain": [
       "<Figure size 1080x720 with 1 Axes>"
      ]
     },
     "metadata": {
      "needs_background": "light"
     },
     "output_type": "display_data"
    }
   ],
   "source": [
    "from pandas.plotting import lag_plot\n",
    "plt.figure(figsize=(15,10))\n",
    "plt.grid(True)\n",
    "lag_plot(stock['Open'], lag=5)\n",
    "plt.title('Autocorrelation plot')\n",
    "plt.show()"
   ]
  },
  {
   "cell_type": "code",
   "execution_count": 55,
   "metadata": {},
   "outputs": [],
   "source": [
    "stock['HL-prs'] = ((stock['High']-stock['Low'])/stock['Low'])*100\n",
    "stock['OC-prs'] = ((stock['Close']-stock['Open'])/stock['Open'])*100"
   ]
  },
  {
   "cell_type": "code",
   "execution_count": 56,
   "metadata": {},
   "outputs": [],
   "source": [
    "stock = stock.drop(['Open','High','Close','Low'],axis=1)"
   ]
  },
  {
   "cell_type": "code",
   "execution_count": 57,
   "metadata": {},
   "outputs": [
    {
     "data": {
      "text/html": [
       "<div>\n",
       "<style scoped>\n",
       "    .dataframe tbody tr th:only-of-type {\n",
       "        vertical-align: middle;\n",
       "    }\n",
       "\n",
       "    .dataframe tbody tr th {\n",
       "        vertical-align: top;\n",
       "    }\n",
       "\n",
       "    .dataframe thead th {\n",
       "        text-align: right;\n",
       "    }\n",
       "</style>\n",
       "<table border=\"1\" class=\"dataframe\">\n",
       "  <thead>\n",
       "    <tr style=\"text-align: right;\">\n",
       "      <th></th>\n",
       "      <th>Date</th>\n",
       "      <th>Adj Close</th>\n",
       "      <th>Volume</th>\n",
       "      <th>HL-prs</th>\n",
       "      <th>OC-prs</th>\n",
       "    </tr>\n",
       "  </thead>\n",
       "  <tbody>\n",
       "    <tr>\n",
       "      <th>0</th>\n",
       "      <td>2000-01-03</td>\n",
       "      <td>5375.109863</td>\n",
       "      <td>0.0</td>\n",
       "      <td>3.361527</td>\n",
       "      <td>3.178204</td>\n",
       "    </tr>\n",
       "    <tr>\n",
       "      <th>1</th>\n",
       "      <td>2000-01-04</td>\n",
       "      <td>5491.009766</td>\n",
       "      <td>0.0</td>\n",
       "      <td>2.930379</td>\n",
       "      <td>-0.776479</td>\n",
       "    </tr>\n",
       "    <tr>\n",
       "      <th>2</th>\n",
       "      <td>2000-01-05</td>\n",
       "      <td>5357.000000</td>\n",
       "      <td>0.0</td>\n",
       "      <td>5.398229</td>\n",
       "      <td>1.745652</td>\n",
       "    </tr>\n",
       "    <tr>\n",
       "      <th>3</th>\n",
       "      <td>2000-01-06</td>\n",
       "      <td>5421.529785</td>\n",
       "      <td>0.0</td>\n",
       "      <td>1.827560</td>\n",
       "      <td>-0.049411</td>\n",
       "    </tr>\n",
       "    <tr>\n",
       "      <th>4</th>\n",
       "      <td>2000-01-07</td>\n",
       "      <td>5414.479980</td>\n",
       "      <td>0.0</td>\n",
       "      <td>2.488846</td>\n",
       "      <td>1.048848</td>\n",
       "    </tr>\n",
       "  </tbody>\n",
       "</table>\n",
       "</div>"
      ],
      "text/plain": [
       "         Date    Adj Close  Volume    HL-prs    OC-prs\n",
       "0  2000-01-03  5375.109863     0.0  3.361527  3.178204\n",
       "1  2000-01-04  5491.009766     0.0  2.930379 -0.776479\n",
       "2  2000-01-05  5357.000000     0.0  5.398229  1.745652\n",
       "3  2000-01-06  5421.529785     0.0  1.827560 -0.049411\n",
       "4  2000-01-07  5414.479980     0.0  2.488846  1.048848"
      ]
     },
     "execution_count": 57,
     "metadata": {},
     "output_type": "execute_result"
    }
   ],
   "source": [
    "stock.head()"
   ]
  },
  {
   "cell_type": "code",
   "execution_count": 58,
   "metadata": {},
   "outputs": [],
   "source": [
    "stock['Date'] = pd.to_datetime(stock['Date'])"
   ]
  },
  {
   "cell_type": "code",
   "execution_count": 59,
   "metadata": {},
   "outputs": [
    {
     "data": {
      "text/html": [
       "<div>\n",
       "<style scoped>\n",
       "    .dataframe tbody tr th:only-of-type {\n",
       "        vertical-align: middle;\n",
       "    }\n",
       "\n",
       "    .dataframe tbody tr th {\n",
       "        vertical-align: top;\n",
       "    }\n",
       "\n",
       "    .dataframe thead th {\n",
       "        text-align: right;\n",
       "    }\n",
       "</style>\n",
       "<table border=\"1\" class=\"dataframe\">\n",
       "  <thead>\n",
       "    <tr style=\"text-align: right;\">\n",
       "      <th></th>\n",
       "      <th>Date</th>\n",
       "      <th>Adj Close</th>\n",
       "      <th>Volume</th>\n",
       "      <th>HL-prs</th>\n",
       "      <th>OC-prs</th>\n",
       "    </tr>\n",
       "  </thead>\n",
       "  <tbody>\n",
       "    <tr>\n",
       "      <th>5197</th>\n",
       "      <td>2020-10-05</td>\n",
       "      <td>38973.699219</td>\n",
       "      <td>15500.0</td>\n",
       "      <td>1.143643</td>\n",
       "      <td>0.043428</td>\n",
       "    </tr>\n",
       "    <tr>\n",
       "      <th>5198</th>\n",
       "      <td>2020-10-06</td>\n",
       "      <td>39574.570313</td>\n",
       "      <td>11300.0</td>\n",
       "      <td>1.103975</td>\n",
       "      <td>0.605624</td>\n",
       "    </tr>\n",
       "    <tr>\n",
       "      <th>5199</th>\n",
       "      <td>2020-10-07</td>\n",
       "      <td>39878.949219</td>\n",
       "      <td>15000.0</td>\n",
       "      <td>1.311047</td>\n",
       "      <td>0.620081</td>\n",
       "    </tr>\n",
       "    <tr>\n",
       "      <th>5200</th>\n",
       "      <td>2020-10-08</td>\n",
       "      <td>40182.671875</td>\n",
       "      <td>14400.0</td>\n",
       "      <td>1.015042</td>\n",
       "      <td>-0.053846</td>\n",
       "    </tr>\n",
       "    <tr>\n",
       "      <th>5201</th>\n",
       "      <td>2020-10-09</td>\n",
       "      <td>40509.488281</td>\n",
       "      <td>16600.0</td>\n",
       "      <td>1.294897</td>\n",
       "      <td>0.704113</td>\n",
       "    </tr>\n",
       "  </tbody>\n",
       "</table>\n",
       "</div>"
      ],
      "text/plain": [
       "           Date     Adj Close   Volume    HL-prs    OC-prs\n",
       "5197 2020-10-05  38973.699219  15500.0  1.143643  0.043428\n",
       "5198 2020-10-06  39574.570313  11300.0  1.103975  0.605624\n",
       "5199 2020-10-07  39878.949219  15000.0  1.311047  0.620081\n",
       "5200 2020-10-08  40182.671875  14400.0  1.015042 -0.053846\n",
       "5201 2020-10-09  40509.488281  16600.0  1.294897  0.704113"
      ]
     },
     "execution_count": 59,
     "metadata": {},
     "output_type": "execute_result"
    }
   ],
   "source": [
    "stock.tail()"
   ]
  },
  {
   "cell_type": "markdown",
   "metadata": {},
   "source": [
    "# create a hybrid model\n"
   ]
  },
  {
   "cell_type": "code",
   "execution_count": 60,
   "metadata": {},
   "outputs": [],
   "source": [
    "# merge the News dataset and stock price\n",
    "news_df.columns = ['Date','headline','polarity','subjectivity','sentiment','Opinion']"
   ]
  },
  {
   "cell_type": "code",
   "execution_count": 61,
   "metadata": {},
   "outputs": [],
   "source": [
    "merge_data = news_df.merge(stock, how = 'inner', on = 'Date', left_index=True)"
   ]
  },
  {
   "cell_type": "code",
   "execution_count": 62,
   "metadata": {},
   "outputs": [
    {
     "data": {
      "text/html": [
       "<div>\n",
       "<style scoped>\n",
       "    .dataframe tbody tr th:only-of-type {\n",
       "        vertical-align: middle;\n",
       "    }\n",
       "\n",
       "    .dataframe tbody tr th {\n",
       "        vertical-align: top;\n",
       "    }\n",
       "\n",
       "    .dataframe thead th {\n",
       "        text-align: right;\n",
       "    }\n",
       "</style>\n",
       "<table border=\"1\" class=\"dataframe\">\n",
       "  <thead>\n",
       "    <tr style=\"text-align: right;\">\n",
       "      <th></th>\n",
       "      <th>Date</th>\n",
       "      <th>headline</th>\n",
       "      <th>polarity</th>\n",
       "      <th>subjectivity</th>\n",
       "      <th>sentiment</th>\n",
       "      <th>Opinion</th>\n",
       "      <th>Adj Close</th>\n",
       "      <th>Volume</th>\n",
       "      <th>HL-prs</th>\n",
       "      <th>OC-prs</th>\n",
       "    </tr>\n",
       "  </thead>\n",
       "  <tbody>\n",
       "    <tr>\n",
       "      <th>260</th>\n",
       "      <td>2001-01-01</td>\n",
       "      <td>win over cena satisfying but defeating underta...</td>\n",
       "      <td>0.433333</td>\n",
       "      <td>0.633333</td>\n",
       "      <td>positive</td>\n",
       "      <td>objective</td>\n",
       "      <td>NaN</td>\n",
       "      <td>NaN</td>\n",
       "      <td>NaN</td>\n",
       "      <td>NaN</td>\n",
       "    </tr>\n",
       "    <tr>\n",
       "      <th>261</th>\n",
       "      <td>2001-01-02</td>\n",
       "      <td>.Fissures in Hurriyat over Pak visit.America's...</td>\n",
       "      <td>0.113725</td>\n",
       "      <td>0.254902</td>\n",
       "      <td>neutral</td>\n",
       "      <td>subjective</td>\n",
       "      <td>4018.879883</td>\n",
       "      <td>0.0</td>\n",
       "      <td>2.524576</td>\n",
       "      <td>1.660922</td>\n",
       "    </tr>\n",
       "    <tr>\n",
       "      <th>262</th>\n",
       "      <td>2001-01-03</td>\n",
       "      <td>.Think again; Laxman tells Sangh Parivar.Hurri...</td>\n",
       "      <td>0.184375</td>\n",
       "      <td>0.403125</td>\n",
       "      <td>neutral</td>\n",
       "      <td>objective</td>\n",
       "      <td>4060.020020</td>\n",
       "      <td>0.0</td>\n",
       "      <td>2.264689</td>\n",
       "      <td>2.072616</td>\n",
       "    </tr>\n",
       "    <tr>\n",
       "      <th>263</th>\n",
       "      <td>2001-01-04</td>\n",
       "      <td>.Vajpayee gives big push to tech education; R&amp;...</td>\n",
       "      <td>0.132492</td>\n",
       "      <td>0.473506</td>\n",
       "      <td>neutral</td>\n",
       "      <td>objective</td>\n",
       "      <td>4115.370117</td>\n",
       "      <td>0.0</td>\n",
       "      <td>1.737913</td>\n",
       "      <td>-1.569016</td>\n",
       "    </tr>\n",
       "    <tr>\n",
       "      <th>264</th>\n",
       "      <td>2001-01-05</td>\n",
       "      <td>.Hawkings' day out.Light combat craft takes In...</td>\n",
       "      <td>0.250480</td>\n",
       "      <td>0.455474</td>\n",
       "      <td>positive</td>\n",
       "      <td>objective</td>\n",
       "      <td>4183.729980</td>\n",
       "      <td>0.0</td>\n",
       "      <td>1.935672</td>\n",
       "      <td>1.637137</td>\n",
       "    </tr>\n",
       "  </tbody>\n",
       "</table>\n",
       "</div>"
      ],
      "text/plain": [
       "          Date                                           headline  polarity  \\\n",
       "260 2001-01-01  win over cena satisfying but defeating underta...  0.433333   \n",
       "261 2001-01-02  .Fissures in Hurriyat over Pak visit.America's...  0.113725   \n",
       "262 2001-01-03  .Think again; Laxman tells Sangh Parivar.Hurri...  0.184375   \n",
       "263 2001-01-04  .Vajpayee gives big push to tech education; R&...  0.132492   \n",
       "264 2001-01-05  .Hawkings' day out.Light combat craft takes In...  0.250480   \n",
       "\n",
       "     subjectivity sentiment     Opinion    Adj Close  Volume    HL-prs  \\\n",
       "260      0.633333  positive   objective          NaN     NaN       NaN   \n",
       "261      0.254902   neutral  subjective  4018.879883     0.0  2.524576   \n",
       "262      0.403125   neutral   objective  4060.020020     0.0  2.264689   \n",
       "263      0.473506   neutral   objective  4115.370117     0.0  1.737913   \n",
       "264      0.455474  positive   objective  4183.729980     0.0  1.935672   \n",
       "\n",
       "       OC-prs  \n",
       "260       NaN  \n",
       "261  1.660922  \n",
       "262  2.072616  \n",
       "263 -1.569016  \n",
       "264  1.637137  "
      ]
     },
     "execution_count": 62,
     "metadata": {},
     "output_type": "execute_result"
    }
   ],
   "source": [
    "merge_data.head()"
   ]
  },
  {
   "cell_type": "code",
   "execution_count": 63,
   "metadata": {},
   "outputs": [],
   "source": [
    "merge_data = merge_data.reset_index()"
   ]
  },
  {
   "cell_type": "code",
   "execution_count": 64,
   "metadata": {},
   "outputs": [
    {
     "data": {
      "text/html": [
       "<div>\n",
       "<style scoped>\n",
       "    .dataframe tbody tr th:only-of-type {\n",
       "        vertical-align: middle;\n",
       "    }\n",
       "\n",
       "    .dataframe tbody tr th {\n",
       "        vertical-align: top;\n",
       "    }\n",
       "\n",
       "    .dataframe thead th {\n",
       "        text-align: right;\n",
       "    }\n",
       "</style>\n",
       "<table border=\"1\" class=\"dataframe\">\n",
       "  <thead>\n",
       "    <tr style=\"text-align: right;\">\n",
       "      <th></th>\n",
       "      <th>index</th>\n",
       "      <th>Date</th>\n",
       "      <th>headline</th>\n",
       "      <th>polarity</th>\n",
       "      <th>subjectivity</th>\n",
       "      <th>sentiment</th>\n",
       "      <th>Opinion</th>\n",
       "      <th>Adj Close</th>\n",
       "      <th>Volume</th>\n",
       "      <th>HL-prs</th>\n",
       "      <th>OC-prs</th>\n",
       "    </tr>\n",
       "  </thead>\n",
       "  <tbody>\n",
       "    <tr>\n",
       "      <th>4835</th>\n",
       "      <td>5124</td>\n",
       "      <td>2020-06-23</td>\n",
       "      <td>.State sugar administration begins issuing sha...</td>\n",
       "      <td>0.072674</td>\n",
       "      <td>0.346985</td>\n",
       "      <td>neutral</td>\n",
       "      <td>subjective</td>\n",
       "      <td>35430.429688</td>\n",
       "      <td>25200.0</td>\n",
       "      <td>1.832380</td>\n",
       "      <td>1.184323</td>\n",
       "    </tr>\n",
       "    <tr>\n",
       "      <th>4836</th>\n",
       "      <td>5125</td>\n",
       "      <td>2020-06-24</td>\n",
       "      <td>.I never thought I had a voice until today: Vi...</td>\n",
       "      <td>0.097046</td>\n",
       "      <td>0.372516</td>\n",
       "      <td>neutral</td>\n",
       "      <td>subjective</td>\n",
       "      <td>34868.980469</td>\n",
       "      <td>26600.0</td>\n",
       "      <td>2.619983</td>\n",
       "      <td>-2.272320</td>\n",
       "    </tr>\n",
       "    <tr>\n",
       "      <th>4837</th>\n",
       "      <td>5126</td>\n",
       "      <td>2020-06-25</td>\n",
       "      <td>.Telangana: Senior Congress leader tests+ve fo...</td>\n",
       "      <td>0.022753</td>\n",
       "      <td>0.401195</td>\n",
       "      <td>neutral</td>\n",
       "      <td>objective</td>\n",
       "      <td>34842.101563</td>\n",
       "      <td>24600.0</td>\n",
       "      <td>1.686469</td>\n",
       "      <td>0.917328</td>\n",
       "    </tr>\n",
       "    <tr>\n",
       "      <th>4838</th>\n",
       "      <td>5127</td>\n",
       "      <td>2020-06-26</td>\n",
       "      <td>.up hammers out 60k proposals of rs 870cr ahea...</td>\n",
       "      <td>0.083689</td>\n",
       "      <td>0.381085</td>\n",
       "      <td>neutral</td>\n",
       "      <td>subjective</td>\n",
       "      <td>35171.269531</td>\n",
       "      <td>24800.0</td>\n",
       "      <td>0.986926</td>\n",
       "      <td>0.075369</td>\n",
       "    </tr>\n",
       "    <tr>\n",
       "      <th>4839</th>\n",
       "      <td>5128</td>\n",
       "      <td>2020-06-29</td>\n",
       "      <td>.Anna Eden gets creative with husband and MP H...</td>\n",
       "      <td>0.049785</td>\n",
       "      <td>0.375024</td>\n",
       "      <td>neutral</td>\n",
       "      <td>subjective</td>\n",
       "      <td>34961.519531</td>\n",
       "      <td>18300.0</td>\n",
       "      <td>1.068317</td>\n",
       "      <td>0.098979</td>\n",
       "    </tr>\n",
       "  </tbody>\n",
       "</table>\n",
       "</div>"
      ],
      "text/plain": [
       "      index       Date                                           headline  \\\n",
       "4835   5124 2020-06-23  .State sugar administration begins issuing sha...   \n",
       "4836   5125 2020-06-24  .I never thought I had a voice until today: Vi...   \n",
       "4837   5126 2020-06-25  .Telangana: Senior Congress leader tests+ve fo...   \n",
       "4838   5127 2020-06-26  .up hammers out 60k proposals of rs 870cr ahea...   \n",
       "4839   5128 2020-06-29  .Anna Eden gets creative with husband and MP H...   \n",
       "\n",
       "      polarity  subjectivity sentiment     Opinion     Adj Close   Volume  \\\n",
       "4835  0.072674      0.346985   neutral  subjective  35430.429688  25200.0   \n",
       "4836  0.097046      0.372516   neutral  subjective  34868.980469  26600.0   \n",
       "4837  0.022753      0.401195   neutral   objective  34842.101563  24600.0   \n",
       "4838  0.083689      0.381085   neutral  subjective  35171.269531  24800.0   \n",
       "4839  0.049785      0.375024   neutral  subjective  34961.519531  18300.0   \n",
       "\n",
       "        HL-prs    OC-prs  \n",
       "4835  1.832380  1.184323  \n",
       "4836  2.619983 -2.272320  \n",
       "4837  1.686469  0.917328  \n",
       "4838  0.986926  0.075369  \n",
       "4839  1.068317  0.098979  "
      ]
     },
     "execution_count": 64,
     "metadata": {},
     "output_type": "execute_result"
    }
   ],
   "source": [
    "merge_data.tail()"
   ]
  },
  {
   "cell_type": "code",
   "execution_count": 65,
   "metadata": {},
   "outputs": [
    {
     "name": "stdout",
     "output_type": "stream",
     "text": [
      "<class 'pandas.core.frame.DataFrame'>\n",
      "RangeIndex: 4840 entries, 0 to 4839\n",
      "Data columns (total 11 columns):\n",
      " #   Column        Non-Null Count  Dtype         \n",
      "---  ------        --------------  -----         \n",
      " 0   index         4840 non-null   int64         \n",
      " 1   Date          4840 non-null   datetime64[ns]\n",
      " 2   headline      4840 non-null   object        \n",
      " 3   polarity      4840 non-null   float64       \n",
      " 4   subjectivity  4840 non-null   float64       \n",
      " 5   sentiment     4840 non-null   object        \n",
      " 6   Opinion       4840 non-null   object        \n",
      " 7   Adj Close     4766 non-null   float64       \n",
      " 8   Volume        4766 non-null   float64       \n",
      " 9   HL-prs        4766 non-null   float64       \n",
      " 10  OC-prs        4766 non-null   float64       \n",
      "dtypes: datetime64[ns](1), float64(6), int64(1), object(3)\n",
      "memory usage: 416.1+ KB\n"
     ]
    }
   ],
   "source": [
    "merge_data.info()"
   ]
  },
  {
   "cell_type": "code",
   "execution_count": 66,
   "metadata": {},
   "outputs": [],
   "source": [
    "merge_data = merge_data.drop(0)"
   ]
  },
  {
   "cell_type": "code",
   "execution_count": 67,
   "metadata": {},
   "outputs": [],
   "source": [
    "merge_data = merge_data[merge_data['Adj Close'].notna()]"
   ]
  },
  {
   "cell_type": "code",
   "execution_count": 68,
   "metadata": {},
   "outputs": [
    {
     "name": "stdout",
     "output_type": "stream",
     "text": [
      "<class 'pandas.core.frame.DataFrame'>\n",
      "Int64Index: 4766 entries, 1 to 4839\n",
      "Data columns (total 11 columns):\n",
      " #   Column        Non-Null Count  Dtype         \n",
      "---  ------        --------------  -----         \n",
      " 0   index         4766 non-null   int64         \n",
      " 1   Date          4766 non-null   datetime64[ns]\n",
      " 2   headline      4766 non-null   object        \n",
      " 3   polarity      4766 non-null   float64       \n",
      " 4   subjectivity  4766 non-null   float64       \n",
      " 5   sentiment     4766 non-null   object        \n",
      " 6   Opinion       4766 non-null   object        \n",
      " 7   Adj Close     4766 non-null   float64       \n",
      " 8   Volume        4766 non-null   float64       \n",
      " 9   HL-prs        4766 non-null   float64       \n",
      " 10  OC-prs        4766 non-null   float64       \n",
      "dtypes: datetime64[ns](1), float64(6), int64(1), object(3)\n",
      "memory usage: 446.8+ KB\n"
     ]
    }
   ],
   "source": [
    "merge_data.info()"
   ]
  },
  {
   "cell_type": "code",
   "execution_count": 69,
   "metadata": {},
   "outputs": [
    {
     "data": {
      "text/html": [
       "<div>\n",
       "<style scoped>\n",
       "    .dataframe tbody tr th:only-of-type {\n",
       "        vertical-align: middle;\n",
       "    }\n",
       "\n",
       "    .dataframe tbody tr th {\n",
       "        vertical-align: top;\n",
       "    }\n",
       "\n",
       "    .dataframe thead th {\n",
       "        text-align: right;\n",
       "    }\n",
       "</style>\n",
       "<table border=\"1\" class=\"dataframe\">\n",
       "  <thead>\n",
       "    <tr style=\"text-align: right;\">\n",
       "      <th></th>\n",
       "      <th>level_0</th>\n",
       "      <th>index</th>\n",
       "      <th>Date</th>\n",
       "      <th>headline</th>\n",
       "      <th>polarity</th>\n",
       "      <th>subjectivity</th>\n",
       "      <th>sentiment</th>\n",
       "      <th>Opinion</th>\n",
       "      <th>Adj Close</th>\n",
       "      <th>Volume</th>\n",
       "      <th>HL-prs</th>\n",
       "      <th>OC-prs</th>\n",
       "    </tr>\n",
       "  </thead>\n",
       "  <tbody>\n",
       "    <tr>\n",
       "      <th>0</th>\n",
       "      <td>1</td>\n",
       "      <td>261</td>\n",
       "      <td>2001-01-02</td>\n",
       "      <td>.Fissures in Hurriyat over Pak visit.America's...</td>\n",
       "      <td>0.113725</td>\n",
       "      <td>0.254902</td>\n",
       "      <td>neutral</td>\n",
       "      <td>subjective</td>\n",
       "      <td>4018.879883</td>\n",
       "      <td>0.0</td>\n",
       "      <td>2.524576</td>\n",
       "      <td>1.660922</td>\n",
       "    </tr>\n",
       "    <tr>\n",
       "      <th>1</th>\n",
       "      <td>2</td>\n",
       "      <td>262</td>\n",
       "      <td>2001-01-03</td>\n",
       "      <td>.Think again; Laxman tells Sangh Parivar.Hurri...</td>\n",
       "      <td>0.184375</td>\n",
       "      <td>0.403125</td>\n",
       "      <td>neutral</td>\n",
       "      <td>objective</td>\n",
       "      <td>4060.020020</td>\n",
       "      <td>0.0</td>\n",
       "      <td>2.264689</td>\n",
       "      <td>2.072616</td>\n",
       "    </tr>\n",
       "    <tr>\n",
       "      <th>2</th>\n",
       "      <td>3</td>\n",
       "      <td>263</td>\n",
       "      <td>2001-01-04</td>\n",
       "      <td>.Vajpayee gives big push to tech education; R&amp;...</td>\n",
       "      <td>0.132492</td>\n",
       "      <td>0.473506</td>\n",
       "      <td>neutral</td>\n",
       "      <td>objective</td>\n",
       "      <td>4115.370117</td>\n",
       "      <td>0.0</td>\n",
       "      <td>1.737913</td>\n",
       "      <td>-1.569016</td>\n",
       "    </tr>\n",
       "    <tr>\n",
       "      <th>3</th>\n",
       "      <td>4</td>\n",
       "      <td>264</td>\n",
       "      <td>2001-01-05</td>\n",
       "      <td>.Hawkings' day out.Light combat craft takes In...</td>\n",
       "      <td>0.250480</td>\n",
       "      <td>0.455474</td>\n",
       "      <td>positive</td>\n",
       "      <td>objective</td>\n",
       "      <td>4183.729980</td>\n",
       "      <td>0.0</td>\n",
       "      <td>1.935672</td>\n",
       "      <td>1.637137</td>\n",
       "    </tr>\n",
       "    <tr>\n",
       "      <th>4</th>\n",
       "      <td>5</td>\n",
       "      <td>265</td>\n",
       "      <td>2001-01-08</td>\n",
       "      <td>.Frontrunner for key US post seen having Pak t...</td>\n",
       "      <td>-0.017149</td>\n",
       "      <td>0.308747</td>\n",
       "      <td>neutral</td>\n",
       "      <td>subjective</td>\n",
       "      <td>4120.430176</td>\n",
       "      <td>0.0</td>\n",
       "      <td>2.564663</td>\n",
       "      <td>-1.064397</td>\n",
       "    </tr>\n",
       "  </tbody>\n",
       "</table>\n",
       "</div>"
      ],
      "text/plain": [
       "   level_0  index       Date  \\\n",
       "0        1    261 2001-01-02   \n",
       "1        2    262 2001-01-03   \n",
       "2        3    263 2001-01-04   \n",
       "3        4    264 2001-01-05   \n",
       "4        5    265 2001-01-08   \n",
       "\n",
       "                                            headline  polarity  subjectivity  \\\n",
       "0  .Fissures in Hurriyat over Pak visit.America's...  0.113725      0.254902   \n",
       "1  .Think again; Laxman tells Sangh Parivar.Hurri...  0.184375      0.403125   \n",
       "2  .Vajpayee gives big push to tech education; R&...  0.132492      0.473506   \n",
       "3  .Hawkings' day out.Light combat craft takes In...  0.250480      0.455474   \n",
       "4  .Frontrunner for key US post seen having Pak t... -0.017149      0.308747   \n",
       "\n",
       "  sentiment     Opinion    Adj Close  Volume    HL-prs    OC-prs  \n",
       "0   neutral  subjective  4018.879883     0.0  2.524576  1.660922  \n",
       "1   neutral   objective  4060.020020     0.0  2.264689  2.072616  \n",
       "2   neutral   objective  4115.370117     0.0  1.737913 -1.569016  \n",
       "3  positive   objective  4183.729980     0.0  1.935672  1.637137  \n",
       "4   neutral  subjective  4120.430176     0.0  2.564663 -1.064397  "
      ]
     },
     "execution_count": 69,
     "metadata": {},
     "output_type": "execute_result"
    }
   ],
   "source": [
    "merge_data = merge_data.reset_index()\n",
    "merge_data.head()"
   ]
  },
  {
   "cell_type": "code",
   "execution_count": 70,
   "metadata": {},
   "outputs": [
    {
     "data": {
      "text/html": [
       "<div>\n",
       "<style scoped>\n",
       "    .dataframe tbody tr th:only-of-type {\n",
       "        vertical-align: middle;\n",
       "    }\n",
       "\n",
       "    .dataframe tbody tr th {\n",
       "        vertical-align: top;\n",
       "    }\n",
       "\n",
       "    .dataframe thead th {\n",
       "        text-align: right;\n",
       "    }\n",
       "</style>\n",
       "<table border=\"1\" class=\"dataframe\">\n",
       "  <thead>\n",
       "    <tr style=\"text-align: right;\">\n",
       "      <th></th>\n",
       "      <th>Date</th>\n",
       "      <th>headline</th>\n",
       "      <th>polarity</th>\n",
       "      <th>subjectivity</th>\n",
       "      <th>sentiment</th>\n",
       "      <th>Opinion</th>\n",
       "      <th>Adj Close</th>\n",
       "      <th>Volume</th>\n",
       "      <th>HL-prs</th>\n",
       "      <th>OC-prs</th>\n",
       "    </tr>\n",
       "  </thead>\n",
       "  <tbody>\n",
       "    <tr>\n",
       "      <th>2079</th>\n",
       "      <td>2009-07-08</td>\n",
       "      <td>.Tips to protect your kids from bullying.It ta...</td>\n",
       "      <td>0.046562</td>\n",
       "      <td>0.393712</td>\n",
       "      <td>neutral</td>\n",
       "      <td>subjective</td>\n",
       "      <td>13769.150391</td>\n",
       "      <td>37600.0</td>\n",
       "      <td>2.465525</td>\n",
       "      <td>-1.926195</td>\n",
       "    </tr>\n",
       "    <tr>\n",
       "      <th>915</th>\n",
       "      <td>2004-10-12</td>\n",
       "      <td>.Foolproof scan of cargo impossible.HPCL logs ...</td>\n",
       "      <td>0.034808</td>\n",
       "      <td>0.352110</td>\n",
       "      <td>neutral</td>\n",
       "      <td>subjective</td>\n",
       "      <td>5676.729980</td>\n",
       "      <td>18200.0</td>\n",
       "      <td>1.744593</td>\n",
       "      <td>-1.280440</td>\n",
       "    </tr>\n",
       "    <tr>\n",
       "      <th>2387</th>\n",
       "      <td>2010-10-12</td>\n",
       "      <td>.Modi's biopic; too hot to handle: Madhur.Nase...</td>\n",
       "      <td>0.074399</td>\n",
       "      <td>0.416964</td>\n",
       "      <td>neutral</td>\n",
       "      <td>objective</td>\n",
       "      <td>20203.339844</td>\n",
       "      <td>13400.0</td>\n",
       "      <td>1.298787</td>\n",
       "      <td>-0.758674</td>\n",
       "    </tr>\n",
       "  </tbody>\n",
       "</table>\n",
       "</div>"
      ],
      "text/plain": [
       "           Date                                           headline  polarity  \\\n",
       "2079 2009-07-08  .Tips to protect your kids from bullying.It ta...  0.046562   \n",
       "915  2004-10-12  .Foolproof scan of cargo impossible.HPCL logs ...  0.034808   \n",
       "2387 2010-10-12  .Modi's biopic; too hot to handle: Madhur.Nase...  0.074399   \n",
       "\n",
       "      subjectivity sentiment     Opinion     Adj Close   Volume    HL-prs  \\\n",
       "2079      0.393712   neutral  subjective  13769.150391  37600.0  2.465525   \n",
       "915       0.352110   neutral  subjective   5676.729980  18200.0  1.744593   \n",
       "2387      0.416964   neutral   objective  20203.339844  13400.0  1.298787   \n",
       "\n",
       "        OC-prs  \n",
       "2079 -1.926195  \n",
       "915  -1.280440  \n",
       "2387 -0.758674  "
      ]
     },
     "execution_count": 70,
     "metadata": {},
     "output_type": "execute_result"
    }
   ],
   "source": [
    "merge_data = merge_data.drop(['level_0','index'], axis=1)\n",
    "merge_data.sample(3)"
   ]
  },
  {
   "cell_type": "code",
   "execution_count": 71,
   "metadata": {},
   "outputs": [
    {
     "data": {
      "text/html": [
       "<div>\n",
       "<style scoped>\n",
       "    .dataframe tbody tr th:only-of-type {\n",
       "        vertical-align: middle;\n",
       "    }\n",
       "\n",
       "    .dataframe tbody tr th {\n",
       "        vertical-align: top;\n",
       "    }\n",
       "\n",
       "    .dataframe thead th {\n",
       "        text-align: right;\n",
       "    }\n",
       "</style>\n",
       "<table border=\"1\" class=\"dataframe\">\n",
       "  <thead>\n",
       "    <tr style=\"text-align: right;\">\n",
       "      <th></th>\n",
       "      <th>Date</th>\n",
       "      <th>polarity</th>\n",
       "      <th>subjectivity</th>\n",
       "      <th>Adj Close</th>\n",
       "      <th>HL-prs</th>\n",
       "      <th>OC-prs</th>\n",
       "    </tr>\n",
       "  </thead>\n",
       "  <tbody>\n",
       "    <tr>\n",
       "      <th>0</th>\n",
       "      <td>2001-01-02</td>\n",
       "      <td>0.113725</td>\n",
       "      <td>0.254902</td>\n",
       "      <td>4018.879883</td>\n",
       "      <td>2.524576</td>\n",
       "      <td>1.660922</td>\n",
       "    </tr>\n",
       "    <tr>\n",
       "      <th>1</th>\n",
       "      <td>2001-01-03</td>\n",
       "      <td>0.184375</td>\n",
       "      <td>0.403125</td>\n",
       "      <td>4060.020020</td>\n",
       "      <td>2.264689</td>\n",
       "      <td>2.072616</td>\n",
       "    </tr>\n",
       "    <tr>\n",
       "      <th>2</th>\n",
       "      <td>2001-01-04</td>\n",
       "      <td>0.132492</td>\n",
       "      <td>0.473506</td>\n",
       "      <td>4115.370117</td>\n",
       "      <td>1.737913</td>\n",
       "      <td>-1.569016</td>\n",
       "    </tr>\n",
       "    <tr>\n",
       "      <th>3</th>\n",
       "      <td>2001-01-05</td>\n",
       "      <td>0.250480</td>\n",
       "      <td>0.455474</td>\n",
       "      <td>4183.729980</td>\n",
       "      <td>1.935672</td>\n",
       "      <td>1.637137</td>\n",
       "    </tr>\n",
       "    <tr>\n",
       "      <th>4</th>\n",
       "      <td>2001-01-08</td>\n",
       "      <td>-0.017149</td>\n",
       "      <td>0.308747</td>\n",
       "      <td>4120.430176</td>\n",
       "      <td>2.564663</td>\n",
       "      <td>-1.064397</td>\n",
       "    </tr>\n",
       "  </tbody>\n",
       "</table>\n",
       "</div>"
      ],
      "text/plain": [
       "        Date  polarity  subjectivity    Adj Close    HL-prs    OC-prs\n",
       "0 2001-01-02  0.113725      0.254902  4018.879883  2.524576  1.660922\n",
       "1 2001-01-03  0.184375      0.403125  4060.020020  2.264689  2.072616\n",
       "2 2001-01-04  0.132492      0.473506  4115.370117  1.737913 -1.569016\n",
       "3 2001-01-05  0.250480      0.455474  4183.729980  1.935672  1.637137\n",
       "4 2001-01-08 -0.017149      0.308747  4120.430176  2.564663 -1.064397"
      ]
     },
     "execution_count": 71,
     "metadata": {},
     "output_type": "execute_result"
    }
   ],
   "source": [
    "df_needed = merge_data[['Date','polarity','subjectivity','Adj Close','HL-prs','OC-prs']]\n",
    "df_needed.head()"
   ]
  },
  {
   "cell_type": "code",
   "execution_count": 72,
   "metadata": {},
   "outputs": [],
   "source": [
    "df_needed = df_needed.set_index(\"Date\")"
   ]
  },
  {
   "cell_type": "code",
   "execution_count": 73,
   "metadata": {},
   "outputs": [
    {
     "data": {
      "text/html": [
       "<div>\n",
       "<style scoped>\n",
       "    .dataframe tbody tr th:only-of-type {\n",
       "        vertical-align: middle;\n",
       "    }\n",
       "\n",
       "    .dataframe tbody tr th {\n",
       "        vertical-align: top;\n",
       "    }\n",
       "\n",
       "    .dataframe thead th {\n",
       "        text-align: right;\n",
       "    }\n",
       "</style>\n",
       "<table border=\"1\" class=\"dataframe\">\n",
       "  <thead>\n",
       "    <tr style=\"text-align: right;\">\n",
       "      <th></th>\n",
       "      <th>polarity</th>\n",
       "      <th>subjectivity</th>\n",
       "      <th>Adj Close</th>\n",
       "      <th>HL-prs</th>\n",
       "      <th>OC-prs</th>\n",
       "    </tr>\n",
       "    <tr>\n",
       "      <th>Date</th>\n",
       "      <th></th>\n",
       "      <th></th>\n",
       "      <th></th>\n",
       "      <th></th>\n",
       "      <th></th>\n",
       "    </tr>\n",
       "  </thead>\n",
       "  <tbody>\n",
       "    <tr>\n",
       "      <th>2001-01-02</th>\n",
       "      <td>0.113725</td>\n",
       "      <td>0.254902</td>\n",
       "      <td>4018.879883</td>\n",
       "      <td>2.524576</td>\n",
       "      <td>1.660922</td>\n",
       "    </tr>\n",
       "    <tr>\n",
       "      <th>2001-01-03</th>\n",
       "      <td>0.184375</td>\n",
       "      <td>0.403125</td>\n",
       "      <td>4060.020020</td>\n",
       "      <td>2.264689</td>\n",
       "      <td>2.072616</td>\n",
       "    </tr>\n",
       "    <tr>\n",
       "      <th>2001-01-04</th>\n",
       "      <td>0.132492</td>\n",
       "      <td>0.473506</td>\n",
       "      <td>4115.370117</td>\n",
       "      <td>1.737913</td>\n",
       "      <td>-1.569016</td>\n",
       "    </tr>\n",
       "    <tr>\n",
       "      <th>2001-01-05</th>\n",
       "      <td>0.250480</td>\n",
       "      <td>0.455474</td>\n",
       "      <td>4183.729980</td>\n",
       "      <td>1.935672</td>\n",
       "      <td>1.637137</td>\n",
       "    </tr>\n",
       "    <tr>\n",
       "      <th>2001-01-08</th>\n",
       "      <td>-0.017149</td>\n",
       "      <td>0.308747</td>\n",
       "      <td>4120.430176</td>\n",
       "      <td>2.564663</td>\n",
       "      <td>-1.064397</td>\n",
       "    </tr>\n",
       "  </tbody>\n",
       "</table>\n",
       "</div>"
      ],
      "text/plain": [
       "            polarity  subjectivity    Adj Close    HL-prs    OC-prs\n",
       "Date                                                               \n",
       "2001-01-02  0.113725      0.254902  4018.879883  2.524576  1.660922\n",
       "2001-01-03  0.184375      0.403125  4060.020020  2.264689  2.072616\n",
       "2001-01-04  0.132492      0.473506  4115.370117  1.737913 -1.569016\n",
       "2001-01-05  0.250480      0.455474  4183.729980  1.935672  1.637137\n",
       "2001-01-08 -0.017149      0.308747  4120.430176  2.564663 -1.064397"
      ]
     },
     "execution_count": 73,
     "metadata": {},
     "output_type": "execute_result"
    }
   ],
   "source": [
    "df_needed.head()"
   ]
  },
  {
   "cell_type": "code",
   "execution_count": 74,
   "metadata": {},
   "outputs": [
    {
     "data": {
      "text/html": [
       "<div>\n",
       "<style scoped>\n",
       "    .dataframe tbody tr th:only-of-type {\n",
       "        vertical-align: middle;\n",
       "    }\n",
       "\n",
       "    .dataframe tbody tr th {\n",
       "        vertical-align: top;\n",
       "    }\n",
       "\n",
       "    .dataframe thead th {\n",
       "        text-align: right;\n",
       "    }\n",
       "</style>\n",
       "<table border=\"1\" class=\"dataframe\">\n",
       "  <thead>\n",
       "    <tr style=\"text-align: right;\">\n",
       "      <th></th>\n",
       "      <th>polarity</th>\n",
       "      <th>subjectivity</th>\n",
       "      <th>Adj Close</th>\n",
       "      <th>HL-prs</th>\n",
       "      <th>OC-prs</th>\n",
       "    </tr>\n",
       "    <tr>\n",
       "      <th>Date</th>\n",
       "      <th></th>\n",
       "      <th></th>\n",
       "      <th></th>\n",
       "      <th></th>\n",
       "      <th></th>\n",
       "    </tr>\n",
       "  </thead>\n",
       "  <tbody>\n",
       "    <tr>\n",
       "      <th>2001-01-02</th>\n",
       "      <td>0.481793</td>\n",
       "      <td>0.339869</td>\n",
       "      <td>0.036053</td>\n",
       "      <td>0.121478</td>\n",
       "      <td>0.611044</td>\n",
       "    </tr>\n",
       "    <tr>\n",
       "      <th>2001-01-03</th>\n",
       "      <td>0.555195</td>\n",
       "      <td>0.537500</td>\n",
       "      <td>0.037098</td>\n",
       "      <td>0.107422</td>\n",
       "      <td>0.632126</td>\n",
       "    </tr>\n",
       "    <tr>\n",
       "      <th>2001-01-04</th>\n",
       "      <td>0.501290</td>\n",
       "      <td>0.631341</td>\n",
       "      <td>0.038505</td>\n",
       "      <td>0.078930</td>\n",
       "      <td>0.445646</td>\n",
       "    </tr>\n",
       "    <tr>\n",
       "      <th>2001-01-05</th>\n",
       "      <td>0.623875</td>\n",
       "      <td>0.607298</td>\n",
       "      <td>0.040242</td>\n",
       "      <td>0.089626</td>\n",
       "      <td>0.609826</td>\n",
       "    </tr>\n",
       "    <tr>\n",
       "      <th>2001-01-08</th>\n",
       "      <td>0.345819</td>\n",
       "      <td>0.411662</td>\n",
       "      <td>0.038633</td>\n",
       "      <td>0.123646</td>\n",
       "      <td>0.471486</td>\n",
       "    </tr>\n",
       "  </tbody>\n",
       "</table>\n",
       "</div>"
      ],
      "text/plain": [
       "            polarity  subjectivity  Adj Close    HL-prs    OC-prs\n",
       "Date                                                             \n",
       "2001-01-02  0.481793      0.339869   0.036053  0.121478  0.611044\n",
       "2001-01-03  0.555195      0.537500   0.037098  0.107422  0.632126\n",
       "2001-01-04  0.501290      0.631341   0.038505  0.078930  0.445646\n",
       "2001-01-05  0.623875      0.607298   0.040242  0.089626  0.609826\n",
       "2001-01-08  0.345819      0.411662   0.038633  0.123646  0.471486"
      ]
     },
     "execution_count": 74,
     "metadata": {},
     "output_type": "execute_result"
    }
   ],
   "source": [
    "scaler = MinMaxScaler()\n",
    "new = pd.DataFrame(scaler.fit_transform(df_needed))\n",
    "new.columns = df_needed.columns\n",
    "new.index = df_needed.index\n",
    "new.head()"
   ]
  },
  {
   "cell_type": "code",
   "execution_count": 75,
   "metadata": {},
   "outputs": [],
   "source": [
    "trainSet = new[: int(0.7*(len(new)))]\n",
    "tsetset = new[int(0.7*(len(new))):]"
   ]
  },
  {
   "cell_type": "code",
   "execution_count": 76,
   "metadata": {},
   "outputs": [
    {
     "name": "stderr",
     "output_type": "stream",
     "text": [
      "C:\\Users\\Madhvi\\Anaconda2\\lib\\site-packages\\statsmodels\\tsa\\base\\tsa_model.py:218: ValueWarning: A date index has been provided, but it has no associated frequency information and so will be ignored when e.g. forecasting.\n",
      "  ' ignored when e.g. forecasting.', ValueWarning)\n"
     ]
    }
   ],
   "source": [
    "model = VAR(endog = trainSet)\n",
    "fit = model.fit()"
   ]
  },
  {
   "cell_type": "code",
   "execution_count": 77,
   "metadata": {},
   "outputs": [
    {
     "name": "stderr",
     "output_type": "stream",
     "text": [
      "C:\\Users\\Madhvi\\Anaconda2\\lib\\site-packages\\statsmodels\\base\\wrapper.py:36: FutureWarning: y is a deprecated alias for endog, will be removed in version 0.11.0\n",
      "  obj = getattr(results, attr)\n"
     ]
    }
   ],
   "source": [
    "pred = fit.forecast(fit.y, steps=len(tsetset))\n",
    "predicted = pd.DataFrame(pred, columns = new.columns)"
   ]
  },
  {
   "cell_type": "code",
   "execution_count": 78,
   "metadata": {},
   "outputs": [
    {
     "data": {
      "text/html": [
       "<div>\n",
       "<style scoped>\n",
       "    .dataframe tbody tr th:only-of-type {\n",
       "        vertical-align: middle;\n",
       "    }\n",
       "\n",
       "    .dataframe tbody tr th {\n",
       "        vertical-align: top;\n",
       "    }\n",
       "\n",
       "    .dataframe thead th {\n",
       "        text-align: right;\n",
       "    }\n",
       "</style>\n",
       "<table border=\"1\" class=\"dataframe\">\n",
       "  <thead>\n",
       "    <tr style=\"text-align: right;\">\n",
       "      <th></th>\n",
       "      <th>polarity</th>\n",
       "      <th>subjectivity</th>\n",
       "      <th>Adj Close</th>\n",
       "      <th>HL-prs</th>\n",
       "      <th>OC-prs</th>\n",
       "    </tr>\n",
       "  </thead>\n",
       "  <tbody>\n",
       "    <tr>\n",
       "      <th>0</th>\n",
       "      <td>0.440051</td>\n",
       "      <td>0.530487</td>\n",
       "      <td>0.604929</td>\n",
       "      <td>0.055138</td>\n",
       "      <td>0.518191</td>\n",
       "    </tr>\n",
       "    <tr>\n",
       "      <th>1</th>\n",
       "      <td>0.440601</td>\n",
       "      <td>0.529649</td>\n",
       "      <td>0.605076</td>\n",
       "      <td>0.059871</td>\n",
       "      <td>0.520200</td>\n",
       "    </tr>\n",
       "    <tr>\n",
       "      <th>2</th>\n",
       "      <td>0.440656</td>\n",
       "      <td>0.529439</td>\n",
       "      <td>0.605234</td>\n",
       "      <td>0.062595</td>\n",
       "      <td>0.520055</td>\n",
       "    </tr>\n",
       "    <tr>\n",
       "      <th>3</th>\n",
       "      <td>0.440692</td>\n",
       "      <td>0.529368</td>\n",
       "      <td>0.605394</td>\n",
       "      <td>0.064248</td>\n",
       "      <td>0.520015</td>\n",
       "    </tr>\n",
       "    <tr>\n",
       "      <th>4</th>\n",
       "      <td>0.440716</td>\n",
       "      <td>0.529335</td>\n",
       "      <td>0.605555</td>\n",
       "      <td>0.065247</td>\n",
       "      <td>0.519990</td>\n",
       "    </tr>\n",
       "  </tbody>\n",
       "</table>\n",
       "</div>"
      ],
      "text/plain": [
       "   polarity  subjectivity  Adj Close    HL-prs    OC-prs\n",
       "0  0.440051      0.530487   0.604929  0.055138  0.518191\n",
       "1  0.440601      0.529649   0.605076  0.059871  0.520200\n",
       "2  0.440656      0.529439   0.605234  0.062595  0.520055\n",
       "3  0.440692      0.529368   0.605394  0.064248  0.520015\n",
       "4  0.440716      0.529335   0.605555  0.065247  0.519990"
      ]
     },
     "execution_count": 78,
     "metadata": {},
     "output_type": "execute_result"
    }
   ],
   "source": [
    "predicted.head()"
   ]
  },
  {
   "cell_type": "code",
   "execution_count": 79,
   "metadata": {},
   "outputs": [
    {
     "data": {
      "text/html": [
       "<div>\n",
       "<style scoped>\n",
       "    .dataframe tbody tr th:only-of-type {\n",
       "        vertical-align: middle;\n",
       "    }\n",
       "\n",
       "    .dataframe tbody tr th {\n",
       "        vertical-align: top;\n",
       "    }\n",
       "\n",
       "    .dataframe thead th {\n",
       "        text-align: right;\n",
       "    }\n",
       "</style>\n",
       "<table border=\"1\" class=\"dataframe\">\n",
       "  <thead>\n",
       "    <tr style=\"text-align: right;\">\n",
       "      <th></th>\n",
       "      <th>polarity</th>\n",
       "      <th>subjectivity</th>\n",
       "      <th>Adj Close</th>\n",
       "      <th>HL-prs</th>\n",
       "      <th>OC-prs</th>\n",
       "    </tr>\n",
       "    <tr>\n",
       "      <th>Date</th>\n",
       "      <th></th>\n",
       "      <th></th>\n",
       "      <th></th>\n",
       "      <th></th>\n",
       "      <th></th>\n",
       "    </tr>\n",
       "  </thead>\n",
       "  <tbody>\n",
       "    <tr>\n",
       "      <th>2014-08-19</th>\n",
       "      <td>0.441405</td>\n",
       "      <td>0.513500</td>\n",
       "      <td>0.605312</td>\n",
       "      <td>0.014207</td>\n",
       "      <td>0.514024</td>\n",
       "    </tr>\n",
       "    <tr>\n",
       "      <th>2014-08-20</th>\n",
       "      <td>0.473203</td>\n",
       "      <td>0.555331</td>\n",
       "      <td>0.602609</td>\n",
       "      <td>0.031636</td>\n",
       "      <td>0.490817</td>\n",
       "    </tr>\n",
       "    <tr>\n",
       "      <th>2014-08-21</th>\n",
       "      <td>0.440534</td>\n",
       "      <td>0.546443</td>\n",
       "      <td>0.603773</td>\n",
       "      <td>0.026591</td>\n",
       "      <td>0.533277</td>\n",
       "    </tr>\n",
       "    <tr>\n",
       "      <th>2014-08-22</th>\n",
       "      <td>0.458091</td>\n",
       "      <td>0.533749</td>\n",
       "      <td>0.605284</td>\n",
       "      <td>0.010580</td>\n",
       "      <td>0.525996</td>\n",
       "    </tr>\n",
       "    <tr>\n",
       "      <th>2014-08-25</th>\n",
       "      <td>0.478084</td>\n",
       "      <td>0.562549</td>\n",
       "      <td>0.605728</td>\n",
       "      <td>0.031865</td>\n",
       "      <td>0.515690</td>\n",
       "    </tr>\n",
       "  </tbody>\n",
       "</table>\n",
       "</div>"
      ],
      "text/plain": [
       "            polarity  subjectivity  Adj Close    HL-prs    OC-prs\n",
       "Date                                                             \n",
       "2014-08-19  0.441405      0.513500   0.605312  0.014207  0.514024\n",
       "2014-08-20  0.473203      0.555331   0.602609  0.031636  0.490817\n",
       "2014-08-21  0.440534      0.546443   0.603773  0.026591  0.533277\n",
       "2014-08-22  0.458091      0.533749   0.605284  0.010580  0.525996\n",
       "2014-08-25  0.478084      0.562549   0.605728  0.031865  0.515690"
      ]
     },
     "execution_count": 79,
     "metadata": {},
     "output_type": "execute_result"
    }
   ],
   "source": [
    "tsetset.head()"
   ]
  },
  {
   "cell_type": "code",
   "execution_count": 80,
   "metadata": {},
   "outputs": [
    {
     "name": "stdout",
     "output_type": "stream",
     "text": [
      "Mean Absolute Error: 0.06594352281589783\n",
      "Mean squared Error: 0.006417705162540776\n"
     ]
    }
   ],
   "source": [
    "from sklearn import metrics  \n",
    "print('Mean Absolute Error:', metrics.mean_absolute_error(predicted['Adj Close'], tsetset['Adj Close']))\n",
    "print('Mean squared Error:', metrics.mean_squared_error(predicted['Adj Close'], tsetset['Adj Close']))"
   ]
  },
  {
   "cell_type": "markdown",
   "metadata": {},
   "source": [
    "# Submitted by Madhvi Singh Thakur"
   ]
  },
  {
   "cell_type": "code",
   "execution_count": null,
   "metadata": {},
   "outputs": [],
   "source": []
  },
  {
   "cell_type": "code",
   "execution_count": null,
   "metadata": {},
   "outputs": [],
   "source": [
    "-"
   ]
  }
 ],
 "metadata": {
  "kernelspec": {
   "display_name": "Python 3",
   "language": "python",
   "name": "python3"
  },
  "language_info": {
   "codemirror_mode": {
    "name": "ipython",
    "version": 3
   },
   "file_extension": ".py",
   "mimetype": "text/x-python",
   "name": "python",
   "nbconvert_exporter": "python",
   "pygments_lexer": "ipython3",
   "version": "3.7.3"
  }
 },
 "nbformat": 4,
 "nbformat_minor": 2
}
